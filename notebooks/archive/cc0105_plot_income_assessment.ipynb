{
 "cells": [
  {
   "cell_type": "markdown",
   "id": "valued-placement",
   "metadata": {},
   "source": [
    "# Plot Visitation Distributions\n",
    "\n",
    "#### Primary Author\n",
    "Chris Carey\n",
    "\n",
    "#### Description:\n",
    "This notebook plots the distribution of food location visitations for various categories among various groupings of census block groups (CBGs).\n",
    "\n",
    "#### Inputs:\n",
    "```\n",
    "data/cbg_attr_and_cluster_1021.csv\n",
    "exports/home_weekly.csv\n",
    "exports/poi_health_recategorized.csv\n",
    "```\n",
    "\n",
    "#### Visualizations:\n",
    "> Stacked time-series plots of % of food location visitations by POI category\\\n",
    "> Stacked time-series plots of % of food location visitations by POI category across income percentiles\\\n",
    "> Scatter plots of % of food location visitations by POI category across income percentiles\\"
   ]
  },
  {
   "cell_type": "code",
   "execution_count": 1,
   "id": "verbal-transsexual",
   "metadata": {},
   "outputs": [],
   "source": [
    "import datetime\n",
    "import geopandas as gpd\n",
    "import matplotlib.pyplot as plt\n",
    "import matplotlib.ticker as mtick\n",
    "import numpy as np\n",
    "import pandas as pd\n",
    "import pytz\n",
    "\n",
    "import warnings\n",
    "warnings.filterwarnings('ignore')"
   ]
  },
  {
   "cell_type": "code",
   "execution_count": 2,
   "id": "collaborative-welsh",
   "metadata": {},
   "outputs": [],
   "source": [
    "def peek(df):\n",
    "    display(df.iloc[0:3, :])\n",
    "    print(len(df))"
   ]
  },
  {
   "cell_type": "code",
   "execution_count": 3,
   "id": "sexual-dream",
   "metadata": {},
   "outputs": [],
   "source": [
    "def repair_dates(df):\n",
    "    df['date_range_start'] = pd.to_datetime(df['date_range_start'], utc=True)\n",
    "    df['date_range_start'] = df['date_range_start'].dt.tz_convert('US/Eastern')"
   ]
  },
  {
   "cell_type": "code",
   "execution_count": 4,
   "id": "revolutionary-scottish",
   "metadata": {},
   "outputs": [],
   "source": [
    "def smoothen(df, columns=[], N=2):\n",
    "    \"\"\"Returns a copy of the given dataframe with a rolling-day average of the\n",
    "    given size applied to the given columns.\"\"\"\n",
    "    rolling_groupby = df.copy().reset_index(level=1).groupby(by=['cluster'])\n",
    "    rolling_df = rolling_groupby[columns].rolling(N + 1, center=True).mean()\n",
    "    rolling_df = rolling_df.reset_index()\n",
    "    rolling_df = rolling_df.sort_values(by=['date_range_start', 'cluster'])\n",
    "    rolling_df = rolling_df.set_index(['date_range_start', 'cluster'])\n",
    "    return rolling_df\n",
    "\n",
    "def smoothen_within(df, columns=[], by=None, N=6):\n",
    "    \"\"\"Returns a copy of the given dataframe with a rolling-day average of the\n",
    "    given size applied to the given columns within each attribute class\n",
    "    determined by the given \"by\" attribute.\"\"\"\n",
    "    attr_classes = set(df[by])\n",
    "    rolling_dfs = []\n",
    "    for attr_class in attr_classes:\n",
    "        attr_class_df = df[df[by] == attr_class]\n",
    "        rolling_dfs.append(smoothen(attr_class_df, columns, N=N))\n",
    "    rolling_df = pd.concat(rolling_dfs)\n",
    "    rolling_df = rolling_df.sort_values(by=['date_range_start', by])\n",
    "    return rolling_df"
   ]
  },
  {
   "cell_type": "markdown",
   "id": "equal-bhutan",
   "metadata": {},
   "source": [
    "## Segment Supermarkets and Grocery Stores by CBG Income"
   ]
  },
  {
   "cell_type": "code",
   "execution_count": 5,
   "id": "cosmetic-cocktail",
   "metadata": {},
   "outputs": [
    {
     "data": {
      "text/html": [
       "<div>\n",
       "<style scoped>\n",
       "    .dataframe tbody tr th:only-of-type {\n",
       "        vertical-align: middle;\n",
       "    }\n",
       "\n",
       "    .dataframe tbody tr th {\n",
       "        vertical-align: top;\n",
       "    }\n",
       "\n",
       "    .dataframe thead th {\n",
       "        text-align: right;\n",
       "    }\n",
       "</style>\n",
       "<table border=\"1\" class=\"dataframe\">\n",
       "  <thead>\n",
       "    <tr style=\"text-align: right;\">\n",
       "      <th></th>\n",
       "      <th>placekey</th>\n",
       "      <th>cbg</th>\n",
       "      <th>naics_code</th>\n",
       "      <th>category</th>\n",
       "      <th>sub_category</th>\n",
       "      <th>location_name</th>\n",
       "      <th>area_square_feet</th>\n",
       "      <th>latitude</th>\n",
       "      <th>longitude</th>\n",
       "    </tr>\n",
       "  </thead>\n",
       "  <tbody>\n",
       "    <tr>\n",
       "      <th>0</th>\n",
       "      <td>222-222@627-s94-nwk</td>\n",
       "      <td>360470395002</td>\n",
       "      <td>445210</td>\n",
       "      <td>Specialty Food Stores</td>\n",
       "      <td>Meat Markets</td>\n",
       "      <td>Broadway Meats</td>\n",
       "      <td>3177.0</td>\n",
       "      <td>40.691436</td>\n",
       "      <td>-73.924891</td>\n",
       "    </tr>\n",
       "    <tr>\n",
       "      <th>1</th>\n",
       "      <td>223-222@627-rw6-zfz</td>\n",
       "      <td>360050386008</td>\n",
       "      <td>445110</td>\n",
       "      <td>Supermarkets</td>\n",
       "      <td>Supermarkets and Other Grocery (except Conveni...</td>\n",
       "      <td>Foodtown</td>\n",
       "      <td>3401.0</td>\n",
       "      <td>40.876890</td>\n",
       "      <td>-73.847776</td>\n",
       "    </tr>\n",
       "    <tr>\n",
       "      <th>2</th>\n",
       "      <td>223-222@627-rwq-vcq</td>\n",
       "      <td>360050117001</td>\n",
       "      <td>445110</td>\n",
       "      <td>Supermarkets</td>\n",
       "      <td>Supermarkets and Other Grocery (except Conveni...</td>\n",
       "      <td>Kirsch Mushroom Company</td>\n",
       "      <td>10079.0</td>\n",
       "      <td>40.816779</td>\n",
       "      <td>-73.883401</td>\n",
       "    </tr>\n",
       "  </tbody>\n",
       "</table>\n",
       "</div>"
      ],
      "text/plain": [
       "              placekey           cbg  naics_code               category  \\\n",
       "0  222-222@627-s94-nwk  360470395002      445210  Specialty Food Stores   \n",
       "1  223-222@627-rw6-zfz  360050386008      445110           Supermarkets   \n",
       "2  223-222@627-rwq-vcq  360050117001      445110           Supermarkets   \n",
       "\n",
       "                                        sub_category            location_name  \\\n",
       "0                                       Meat Markets           Broadway Meats   \n",
       "1  Supermarkets and Other Grocery (except Conveni...                 Foodtown   \n",
       "2  Supermarkets and Other Grocery (except Conveni...  Kirsch Mushroom Company   \n",
       "\n",
       "   area_square_feet   latitude  longitude  \n",
       "0            3177.0  40.691436 -73.924891  \n",
       "1            3401.0  40.876890 -73.847776  \n",
       "2           10079.0  40.816779 -73.883401  "
      ]
     },
     "metadata": {},
     "output_type": "display_data"
    },
    {
     "name": "stdout",
     "output_type": "stream",
     "text": [
      "36475\n"
     ]
    }
   ],
   "source": [
    "poi_df = pd.read_csv(f'./exports/poi_health_recategorized.csv')\n",
    "peek(poi_df)"
   ]
  },
  {
   "cell_type": "code",
   "execution_count": 6,
   "id": "exciting-valuable",
   "metadata": {},
   "outputs": [
    {
     "data": {
      "text/html": [
       "<div>\n",
       "<style scoped>\n",
       "    .dataframe tbody tr th:only-of-type {\n",
       "        vertical-align: middle;\n",
       "    }\n",
       "\n",
       "    .dataframe tbody tr th {\n",
       "        vertical-align: top;\n",
       "    }\n",
       "\n",
       "    .dataframe thead th {\n",
       "        text-align: right;\n",
       "    }\n",
       "</style>\n",
       "<table border=\"1\" class=\"dataframe\">\n",
       "  <thead>\n",
       "    <tr style=\"text-align: right;\">\n",
       "      <th></th>\n",
       "      <th>cbg</th>\n",
       "      <th>income</th>\n",
       "      <th>population</th>\n",
       "    </tr>\n",
       "  </thead>\n",
       "  <tbody>\n",
       "    <tr>\n",
       "      <th>0</th>\n",
       "      <td>360050001001</td>\n",
       "      <td>NaN</td>\n",
       "      <td>6864</td>\n",
       "    </tr>\n",
       "    <tr>\n",
       "      <th>1</th>\n",
       "      <td>360050002001</td>\n",
       "      <td>41968.0</td>\n",
       "      <td>1744</td>\n",
       "    </tr>\n",
       "    <tr>\n",
       "      <th>2</th>\n",
       "      <td>360050002002</td>\n",
       "      <td>48523.0</td>\n",
       "      <td>1569</td>\n",
       "    </tr>\n",
       "  </tbody>\n",
       "</table>\n",
       "</div>"
      ],
      "text/plain": [
       "            cbg   income  population\n",
       "0  360050001001      NaN        6864\n",
       "1  360050002001  41968.0        1744\n",
       "2  360050002002  48523.0        1569"
      ]
     },
     "metadata": {},
     "output_type": "display_data"
    },
    {
     "name": "stdout",
     "output_type": "stream",
     "text": [
      "6221\n"
     ]
    }
   ],
   "source": [
    "cbg_df = pd.read_csv('./data/cbg_attr_and_cluster_1021.csv')\n",
    "cbg_df = cbg_df.rename(columns={\n",
    "    'census_block_group': 'cbg',\n",
    "    'Median Household Income': 'income',\n",
    "    'Total Population': 'population',\n",
    "})\n",
    "cbg_df = cbg_df[['cbg', 'income', 'population']]\n",
    "peek(cbg_df)"
   ]
  },
  {
   "cell_type": "code",
   "execution_count": 7,
   "id": "efficient-officer",
   "metadata": {},
   "outputs": [],
   "source": [
    "def add_percentiles(df, column):\n",
    "    cdf = df.copy()\n",
    "    percents = list(range(10, 110, 10))\n",
    "    values = [np.percentile(cdf[column].dropna(), p) for p in percents]\n",
    "    \n",
    "    cdf[f'{column}_percentile'] = None\n",
    "    for i, value in enumerate(values):\n",
    "        cdf.loc[(cdf[f'{column}_percentile'].isna()) & (cdf[column] <= value), f'{column}_percentile'] = percents[i] \n",
    "    return cdf"
   ]
  },
  {
   "cell_type": "code",
   "execution_count": 8,
   "id": "helpful-outline",
   "metadata": {},
   "outputs": [
    {
     "data": {
      "text/html": [
       "<div>\n",
       "<style scoped>\n",
       "    .dataframe tbody tr th:only-of-type {\n",
       "        vertical-align: middle;\n",
       "    }\n",
       "\n",
       "    .dataframe tbody tr th {\n",
       "        vertical-align: top;\n",
       "    }\n",
       "\n",
       "    .dataframe thead th {\n",
       "        text-align: right;\n",
       "    }\n",
       "</style>\n",
       "<table border=\"1\" class=\"dataframe\">\n",
       "  <thead>\n",
       "    <tr style=\"text-align: right;\">\n",
       "      <th></th>\n",
       "      <th>placekey</th>\n",
       "      <th>cbg</th>\n",
       "      <th>naics_code</th>\n",
       "      <th>category</th>\n",
       "      <th>sub_category</th>\n",
       "      <th>location_name</th>\n",
       "      <th>area_square_feet</th>\n",
       "      <th>latitude</th>\n",
       "      <th>longitude</th>\n",
       "      <th>income</th>\n",
       "      <th>population</th>\n",
       "      <th>income_percentile</th>\n",
       "      <th>area_square_feet_percentile</th>\n",
       "    </tr>\n",
       "  </thead>\n",
       "  <tbody>\n",
       "    <tr>\n",
       "      <th>36</th>\n",
       "      <td>22n-222@627-rw6-mff</td>\n",
       "      <td>360050378003</td>\n",
       "      <td>445120</td>\n",
       "      <td>Delis and Convenience Stores</td>\n",
       "      <td>Delis and Convenience Stores</td>\n",
       "      <td>Tito's Mini Market</td>\n",
       "      <td>852.0</td>\n",
       "      <td>40.878042</td>\n",
       "      <td>-73.866717</td>\n",
       "      <td>30795.0</td>\n",
       "      <td>597</td>\n",
       "      <td>10</td>\n",
       "      <td>10</td>\n",
       "    </tr>\n",
       "    <tr>\n",
       "      <th>93</th>\n",
       "      <td>229-222@627-s64-tgk</td>\n",
       "      <td>360050283002</td>\n",
       "      <td>722511</td>\n",
       "      <td>Delis and Convenience Stores</td>\n",
       "      <td>Delis and Convenience Stores</td>\n",
       "      <td>Gourmet Deli</td>\n",
       "      <td>5388.0</td>\n",
       "      <td>40.884902</td>\n",
       "      <td>-73.900444</td>\n",
       "      <td>52052.0</td>\n",
       "      <td>1286</td>\n",
       "      <td>30</td>\n",
       "      <td>80</td>\n",
       "    </tr>\n",
       "    <tr>\n",
       "      <th>110</th>\n",
       "      <td>22n-222@627-s93-66k</td>\n",
       "      <td>360470493002</td>\n",
       "      <td>722511</td>\n",
       "      <td>Delis and Convenience Stores</td>\n",
       "      <td>Delis and Convenience Stores</td>\n",
       "      <td>The Lunch Box Deli &amp;amp Grill</td>\n",
       "      <td>NaN</td>\n",
       "      <td>40.708839</td>\n",
       "      <td>-73.940228</td>\n",
       "      <td>76637.0</td>\n",
       "      <td>1191</td>\n",
       "      <td>60</td>\n",
       "      <td>None</td>\n",
       "    </tr>\n",
       "  </tbody>\n",
       "</table>\n",
       "</div>"
      ],
      "text/plain": [
       "                placekey           cbg  naics_code  \\\n",
       "36   22n-222@627-rw6-mff  360050378003      445120   \n",
       "93   229-222@627-s64-tgk  360050283002      722511   \n",
       "110  22n-222@627-s93-66k  360470493002      722511   \n",
       "\n",
       "                         category                  sub_category  \\\n",
       "36   Delis and Convenience Stores  Delis and Convenience Stores   \n",
       "93   Delis and Convenience Stores  Delis and Convenience Stores   \n",
       "110  Delis and Convenience Stores  Delis and Convenience Stores   \n",
       "\n",
       "                     location_name  area_square_feet   latitude  longitude  \\\n",
       "36              Tito's Mini Market             852.0  40.878042 -73.866717   \n",
       "93                    Gourmet Deli            5388.0  40.884902 -73.900444   \n",
       "110  The Lunch Box Deli &amp Grill               NaN  40.708839 -73.940228   \n",
       "\n",
       "      income  population income_percentile area_square_feet_percentile  \n",
       "36   30795.0         597                10                          10  \n",
       "93   52052.0        1286                30                          80  \n",
       "110  76637.0        1191                60                        None  "
      ]
     },
     "metadata": {},
     "output_type": "display_data"
    },
    {
     "name": "stdout",
     "output_type": "stream",
     "text": [
      "1877\n"
     ]
    }
   ],
   "source": [
    "sgs_df = poi_df.merge(cbg_df, on='cbg', how='inner')\n",
    "sgs_df = sgs_df[sgs_df['category'] == 'Delis and Convenience Stores']\n",
    "sgs_df = add_percentiles(sgs_df, 'income')\n",
    "sgs_df = add_percentiles(sgs_df, 'area_square_feet')\n",
    "peek(sgs_df)"
   ]
  },
  {
   "cell_type": "code",
   "execution_count": 9,
   "id": "reasonable-advice",
   "metadata": {},
   "outputs": [
    {
     "data": {
      "text/html": [
       "<div>\n",
       "<style scoped>\n",
       "    .dataframe tbody tr th:only-of-type {\n",
       "        vertical-align: middle;\n",
       "    }\n",
       "\n",
       "    .dataframe tbody tr th {\n",
       "        vertical-align: top;\n",
       "    }\n",
       "\n",
       "    .dataframe thead th {\n",
       "        text-align: right;\n",
       "    }\n",
       "</style>\n",
       "<table border=\"1\" class=\"dataframe\">\n",
       "  <thead>\n",
       "    <tr style=\"text-align: right;\">\n",
       "      <th></th>\n",
       "      <th>income_percentile</th>\n",
       "      <th>area_square_feet_percentile</th>\n",
       "      <th>count</th>\n",
       "    </tr>\n",
       "  </thead>\n",
       "  <tbody>\n",
       "    <tr>\n",
       "      <th>0</th>\n",
       "      <td>10</td>\n",
       "      <td>10</td>\n",
       "      <td>16</td>\n",
       "    </tr>\n",
       "    <tr>\n",
       "      <th>1</th>\n",
       "      <td>10</td>\n",
       "      <td>20</td>\n",
       "      <td>6</td>\n",
       "    </tr>\n",
       "    <tr>\n",
       "      <th>2</th>\n",
       "      <td>10</td>\n",
       "      <td>30</td>\n",
       "      <td>18</td>\n",
       "    </tr>\n",
       "  </tbody>\n",
       "</table>\n",
       "</div>"
      ],
      "text/plain": [
       "   income_percentile  area_square_feet_percentile  count\n",
       "0                 10                           10     16\n",
       "1                 10                           20      6\n",
       "2                 10                           30     18"
      ]
     },
     "metadata": {},
     "output_type": "display_data"
    },
    {
     "name": "stdout",
     "output_type": "stream",
     "text": [
      "100\n"
     ]
    }
   ],
   "source": [
    "sgs_count_df = sgs_df.groupby(by=['income_percentile', 'area_square_feet_percentile']).agg({'placekey': 'count'}).reset_index()\n",
    "sgs_count_df = sgs_count_df.rename(columns={'placekey': 'count'})\n",
    "peek(sgs_count_df)"
   ]
  },
  {
   "cell_type": "code",
   "execution_count": 10,
   "id": "sunrise-tucson",
   "metadata": {},
   "outputs": [
    {
     "data": {
      "text/html": [
       "<div>\n",
       "<style scoped>\n",
       "    .dataframe tbody tr th:only-of-type {\n",
       "        vertical-align: middle;\n",
       "    }\n",
       "\n",
       "    .dataframe tbody tr th {\n",
       "        vertical-align: top;\n",
       "    }\n",
       "\n",
       "    .dataframe thead th {\n",
       "        text-align: right;\n",
       "    }\n",
       "</style>\n",
       "<table border=\"1\" class=\"dataframe\">\n",
       "  <thead>\n",
       "    <tr style=\"text-align: right;\">\n",
       "      <th></th>\n",
       "      <th>placekey</th>\n",
       "      <th>date_range_start</th>\n",
       "      <th>cbg</th>\n",
       "      <th>visitor_count</th>\n",
       "      <th>estimated_visitor_count</th>\n",
       "      <th>pct_visitor_count</th>\n",
       "      <th>pct_estimated_visitor_count</th>\n",
       "      <th>cdi</th>\n",
       "    </tr>\n",
       "  </thead>\n",
       "  <tbody>\n",
       "    <tr>\n",
       "      <th>77</th>\n",
       "      <td>zzy-229@627-s7k-snq</td>\n",
       "      <td>2019-01-07 00:00:00-05:00</td>\n",
       "      <td>360050001001</td>\n",
       "      <td>4</td>\n",
       "      <td>203.377778</td>\n",
       "      <td>0.500000</td>\n",
       "      <td>0.500000</td>\n",
       "      <td>155.884113</td>\n",
       "    </tr>\n",
       "    <tr>\n",
       "      <th>78</th>\n",
       "      <td>zzy-229@627-s7k-snq</td>\n",
       "      <td>2019-01-07 00:00:00-05:00</td>\n",
       "      <td>360050043001</td>\n",
       "      <td>4</td>\n",
       "      <td>6.694275</td>\n",
       "      <td>0.015094</td>\n",
       "      <td>0.015094</td>\n",
       "      <td>5.130999</td>\n",
       "    </tr>\n",
       "    <tr>\n",
       "      <th>79</th>\n",
       "      <td>zzy-229@627-s7k-snq</td>\n",
       "      <td>2019-01-07 00:00:00-05:00</td>\n",
       "      <td>360050051002</td>\n",
       "      <td>4</td>\n",
       "      <td>4.703779</td>\n",
       "      <td>0.005548</td>\n",
       "      <td>0.005548</td>\n",
       "      <td>3.605332</td>\n",
       "    </tr>\n",
       "  </tbody>\n",
       "</table>\n",
       "</div>"
      ],
      "text/plain": [
       "               placekey          date_range_start           cbg  \\\n",
       "77  zzy-229@627-s7k-snq 2019-01-07 00:00:00-05:00  360050001001   \n",
       "78  zzy-229@627-s7k-snq 2019-01-07 00:00:00-05:00  360050043001   \n",
       "79  zzy-229@627-s7k-snq 2019-01-07 00:00:00-05:00  360050051002   \n",
       "\n",
       "    visitor_count  estimated_visitor_count  pct_visitor_count  \\\n",
       "77              4               203.377778           0.500000   \n",
       "78              4                 6.694275           0.015094   \n",
       "79              4                 4.703779           0.005548   \n",
       "\n",
       "    pct_estimated_visitor_count         cdi  \n",
       "77                     0.500000  155.884113  \n",
       "78                     0.015094    5.130999  \n",
       "79                     0.005548    3.605332  "
      ]
     },
     "metadata": {},
     "output_type": "display_data"
    },
    {
     "name": "stdout",
     "output_type": "stream",
     "text": [
      "26592552\n"
     ]
    }
   ],
   "source": [
    "home_weekly_df = pd.read_csv(f'./exports/home_weekly.csv')\n",
    "repair_dates(home_weekly_df)\n",
    "home_weekly_df = home_weekly_df[home_weekly_df['date_range_start'].dt.year.isin([2019, 2020])]\n",
    "home_weekly_df = home_weekly_df.rename(columns={'home_cbg': 'cbg'})\n",
    "peek(home_weekly_df)"
   ]
  },
  {
   "cell_type": "code",
   "execution_count": 11,
   "id": "amended-patent",
   "metadata": {},
   "outputs": [
    {
     "data": {
      "text/html": [
       "<div>\n",
       "<style scoped>\n",
       "    .dataframe tbody tr th:only-of-type {\n",
       "        vertical-align: middle;\n",
       "    }\n",
       "\n",
       "    .dataframe tbody tr th {\n",
       "        vertical-align: top;\n",
       "    }\n",
       "\n",
       "    .dataframe thead th {\n",
       "        text-align: right;\n",
       "    }\n",
       "</style>\n",
       "<table border=\"1\" class=\"dataframe\">\n",
       "  <thead>\n",
       "    <tr style=\"text-align: right;\">\n",
       "      <th></th>\n",
       "      <th>placekey</th>\n",
       "      <th>date_range_start</th>\n",
       "      <th>estimated_visitor_count</th>\n",
       "      <th>area_square_feet_percentile</th>\n",
       "      <th>poi_cbg</th>\n",
       "      <th>poi_income</th>\n",
       "      <th>poi_income_percentile</th>\n",
       "      <th>home_cbg</th>\n",
       "    </tr>\n",
       "  </thead>\n",
       "  <tbody>\n",
       "    <tr>\n",
       "      <th>0</th>\n",
       "      <td>22n-222@627-rw6-mff</td>\n",
       "      <td>2019-09-02 00:00:00-04:00</td>\n",
       "      <td>9.001290</td>\n",
       "      <td>10</td>\n",
       "      <td>360050378003</td>\n",
       "      <td>30795.0</td>\n",
       "      <td>10</td>\n",
       "      <td>360050075002</td>\n",
       "    </tr>\n",
       "    <tr>\n",
       "      <th>1</th>\n",
       "      <td>22n-222@627-rw6-mff</td>\n",
       "      <td>2019-09-09 00:00:00-04:00</td>\n",
       "      <td>7.158969</td>\n",
       "      <td>10</td>\n",
       "      <td>360050378003</td>\n",
       "      <td>30795.0</td>\n",
       "      <td>10</td>\n",
       "      <td>360050378001</td>\n",
       "    </tr>\n",
       "    <tr>\n",
       "      <th>2</th>\n",
       "      <td>22n-222@627-rw6-mff</td>\n",
       "      <td>2020-04-13 00:00:00-04:00</td>\n",
       "      <td>13.100737</td>\n",
       "      <td>10</td>\n",
       "      <td>360050378003</td>\n",
       "      <td>30795.0</td>\n",
       "      <td>10</td>\n",
       "      <td>360050378001</td>\n",
       "    </tr>\n",
       "  </tbody>\n",
       "</table>\n",
       "</div>"
      ],
      "text/plain": [
       "              placekey          date_range_start  estimated_visitor_count  \\\n",
       "0  22n-222@627-rw6-mff 2019-09-02 00:00:00-04:00                 9.001290   \n",
       "1  22n-222@627-rw6-mff 2019-09-09 00:00:00-04:00                 7.158969   \n",
       "2  22n-222@627-rw6-mff 2020-04-13 00:00:00-04:00                13.100737   \n",
       "\n",
       "  area_square_feet_percentile       poi_cbg  poi_income poi_income_percentile  \\\n",
       "0                          10  360050378003     30795.0                    10   \n",
       "1                          10  360050378003     30795.0                    10   \n",
       "2                          10  360050378003     30795.0                    10   \n",
       "\n",
       "       home_cbg  \n",
       "0  360050075002  \n",
       "1  360050378001  \n",
       "2  360050378001  "
      ]
     },
     "metadata": {},
     "output_type": "display_data"
    },
    {
     "name": "stdout",
     "output_type": "stream",
     "text": [
      "1052700\n"
     ]
    }
   ],
   "source": [
    "sgs_weekly_df = sgs_df.merge(home_weekly_df, on='placekey', how='inner')\n",
    "sgs_weekly_df = sgs_weekly_df.rename(columns={\n",
    "    'cbg_x': 'poi_cbg',\n",
    "    'cbg_y': 'home_cbg',\n",
    "    'income': 'poi_income',\n",
    "    'income_percentile': 'poi_income_percentile',\n",
    "})\n",
    "sgs_weekly_df = sgs_weekly_df[[\n",
    "    'placekey',\n",
    "    'date_range_start',\n",
    "    'estimated_visitor_count',\n",
    "    'area_square_feet_percentile',\n",
    "    'poi_cbg',\n",
    "    'poi_income',\n",
    "    'poi_income_percentile',\n",
    "    'home_cbg',\n",
    "]]\n",
    "peek(sgs_weekly_df)"
   ]
  },
  {
   "cell_type": "code",
   "execution_count": 12,
   "id": "chubby-soldier",
   "metadata": {},
   "outputs": [
    {
     "data": {
      "text/html": [
       "<div>\n",
       "<style scoped>\n",
       "    .dataframe tbody tr th:only-of-type {\n",
       "        vertical-align: middle;\n",
       "    }\n",
       "\n",
       "    .dataframe tbody tr th {\n",
       "        vertical-align: top;\n",
       "    }\n",
       "\n",
       "    .dataframe thead th {\n",
       "        text-align: right;\n",
       "    }\n",
       "</style>\n",
       "<table border=\"1\" class=\"dataframe\">\n",
       "  <thead>\n",
       "    <tr style=\"text-align: right;\">\n",
       "      <th></th>\n",
       "      <th>placekey</th>\n",
       "      <th>date_range_start</th>\n",
       "      <th>estimated_visitor_count</th>\n",
       "      <th>area_square_feet_percentile</th>\n",
       "      <th>poi_cbg</th>\n",
       "      <th>poi_income</th>\n",
       "      <th>poi_income_percentile</th>\n",
       "      <th>home_cbg</th>\n",
       "      <th>home_income</th>\n",
       "      <th>home_income_percentile</th>\n",
       "    </tr>\n",
       "  </thead>\n",
       "  <tbody>\n",
       "    <tr>\n",
       "      <th>0</th>\n",
       "      <td>22n-222@627-rw6-mff</td>\n",
       "      <td>2019-09-02 00:00:00-04:00</td>\n",
       "      <td>9.001290</td>\n",
       "      <td>10</td>\n",
       "      <td>360050378003</td>\n",
       "      <td>30795.0</td>\n",
       "      <td>10</td>\n",
       "      <td>360050075002</td>\n",
       "      <td>32037.0</td>\n",
       "      <td>20</td>\n",
       "    </tr>\n",
       "    <tr>\n",
       "      <th>1</th>\n",
       "      <td>229-222@627-s64-tgk</td>\n",
       "      <td>2019-07-08 00:00:00-04:00</td>\n",
       "      <td>9.709116</td>\n",
       "      <td>80</td>\n",
       "      <td>360050283002</td>\n",
       "      <td>52052.0</td>\n",
       "      <td>30</td>\n",
       "      <td>360050075002</td>\n",
       "      <td>32037.0</td>\n",
       "      <td>20</td>\n",
       "    </tr>\n",
       "    <tr>\n",
       "      <th>2</th>\n",
       "      <td>22g-222@627-wdk-b49</td>\n",
       "      <td>2019-05-27 00:00:00-04:00</td>\n",
       "      <td>9.172913</td>\n",
       "      <td>100</td>\n",
       "      <td>360470594021</td>\n",
       "      <td>76827.0</td>\n",
       "      <td>60</td>\n",
       "      <td>360050075002</td>\n",
       "      <td>32037.0</td>\n",
       "      <td>20</td>\n",
       "    </tr>\n",
       "  </tbody>\n",
       "</table>\n",
       "</div>"
      ],
      "text/plain": [
       "              placekey          date_range_start  estimated_visitor_count  \\\n",
       "0  22n-222@627-rw6-mff 2019-09-02 00:00:00-04:00                 9.001290   \n",
       "1  229-222@627-s64-tgk 2019-07-08 00:00:00-04:00                 9.709116   \n",
       "2  22g-222@627-wdk-b49 2019-05-27 00:00:00-04:00                 9.172913   \n",
       "\n",
       "  area_square_feet_percentile       poi_cbg  poi_income poi_income_percentile  \\\n",
       "0                          10  360050378003     30795.0                    10   \n",
       "1                          80  360050283002     52052.0                    30   \n",
       "2                         100  360470594021     76827.0                    60   \n",
       "\n",
       "       home_cbg  home_income home_income_percentile  \n",
       "0  360050075002      32037.0                     20  \n",
       "1  360050075002      32037.0                     20  \n",
       "2  360050075002      32037.0                     20  "
      ]
     },
     "metadata": {},
     "output_type": "display_data"
    },
    {
     "name": "stdout",
     "output_type": "stream",
     "text": [
      "1052700\n"
     ]
    }
   ],
   "source": [
    "sgs_income_df = sgs_weekly_df.merge(cbg_df, left_on='home_cbg', right_on='cbg')\n",
    "sgs_income_df = add_percentiles(sgs_income_df, 'income')\n",
    "sgs_income_df = sgs_income_df.rename(columns={\n",
    "    'income': 'home_income',\n",
    "    'income_percentile': 'home_income_percentile',\n",
    "})\n",
    "sgs_income_df = sgs_income_df[[\n",
    "    'placekey',\n",
    "    'date_range_start',\n",
    "    'estimated_visitor_count',\n",
    "    'area_square_feet_percentile',\n",
    "    'poi_cbg',\n",
    "    'poi_income',\n",
    "    'poi_income_percentile',\n",
    "    'home_cbg',\n",
    "    'home_income',\n",
    "    'home_income_percentile',\n",
    "]]\n",
    "peek(sgs_income_df)"
   ]
  },
  {
   "cell_type": "code",
   "execution_count": 13,
   "id": "steady-limit",
   "metadata": {},
   "outputs": [
    {
     "data": {
      "text/html": [
       "<div>\n",
       "<style scoped>\n",
       "    .dataframe tbody tr th:only-of-type {\n",
       "        vertical-align: middle;\n",
       "    }\n",
       "\n",
       "    .dataframe tbody tr th {\n",
       "        vertical-align: top;\n",
       "    }\n",
       "\n",
       "    .dataframe thead th {\n",
       "        text-align: right;\n",
       "    }\n",
       "</style>\n",
       "<table border=\"1\" class=\"dataframe\">\n",
       "  <thead>\n",
       "    <tr style=\"text-align: right;\">\n",
       "      <th></th>\n",
       "      <th>placekey</th>\n",
       "      <th>date_range_start</th>\n",
       "      <th>estimated_visitor_count</th>\n",
       "      <th>area_square_feet_percentile</th>\n",
       "      <th>poi_cbg</th>\n",
       "      <th>poi_income</th>\n",
       "      <th>poi_income_percentile</th>\n",
       "      <th>home_cbg</th>\n",
       "      <th>home_income</th>\n",
       "      <th>home_income_percentile</th>\n",
       "      <th>income_direction</th>\n",
       "      <th>year</th>\n",
       "      <th>month</th>\n",
       "    </tr>\n",
       "  </thead>\n",
       "  <tbody>\n",
       "    <tr>\n",
       "      <th>2</th>\n",
       "      <td>22g-222@627-wdk-b49</td>\n",
       "      <td>2019-05-27 00:00:00-04:00</td>\n",
       "      <td>9.172913</td>\n",
       "      <td>100</td>\n",
       "      <td>360470594021</td>\n",
       "      <td>76827.0</td>\n",
       "      <td>60</td>\n",
       "      <td>360050075002</td>\n",
       "      <td>32037.0</td>\n",
       "      <td>20</td>\n",
       "      <td>0</td>\n",
       "      <td>2019</td>\n",
       "      <td>5</td>\n",
       "    </tr>\n",
       "    <tr>\n",
       "      <th>5</th>\n",
       "      <td>22c-222@627-s6d-5cq</td>\n",
       "      <td>2019-05-06 00:00:00-04:00</td>\n",
       "      <td>8.903638</td>\n",
       "      <td>90</td>\n",
       "      <td>360610241004</td>\n",
       "      <td>70583.0</td>\n",
       "      <td>50</td>\n",
       "      <td>360050075002</td>\n",
       "      <td>32037.0</td>\n",
       "      <td>20</td>\n",
       "      <td>0</td>\n",
       "      <td>2019</td>\n",
       "      <td>5</td>\n",
       "    </tr>\n",
       "    <tr>\n",
       "      <th>7</th>\n",
       "      <td>237-222@627-s96-y35</td>\n",
       "      <td>2019-04-29 00:00:00-04:00</td>\n",
       "      <td>8.714553</td>\n",
       "      <td>None</td>\n",
       "      <td>360470553001</td>\n",
       "      <td>113704.0</td>\n",
       "      <td>90</td>\n",
       "      <td>360050075002</td>\n",
       "      <td>32037.0</td>\n",
       "      <td>20</td>\n",
       "      <td>0</td>\n",
       "      <td>2019</td>\n",
       "      <td>4</td>\n",
       "    </tr>\n",
       "  </tbody>\n",
       "</table>\n",
       "</div>"
      ],
      "text/plain": [
       "              placekey          date_range_start  estimated_visitor_count  \\\n",
       "2  22g-222@627-wdk-b49 2019-05-27 00:00:00-04:00                 9.172913   \n",
       "5  22c-222@627-s6d-5cq 2019-05-06 00:00:00-04:00                 8.903638   \n",
       "7  237-222@627-s96-y35 2019-04-29 00:00:00-04:00                 8.714553   \n",
       "\n",
       "  area_square_feet_percentile       poi_cbg  poi_income poi_income_percentile  \\\n",
       "2                         100  360470594021     76827.0                    60   \n",
       "5                          90  360610241004     70583.0                    50   \n",
       "7                        None  360470553001    113704.0                    90   \n",
       "\n",
       "       home_cbg  home_income home_income_percentile  income_direction  year  \\\n",
       "2  360050075002      32037.0                     20                 0  2019   \n",
       "5  360050075002      32037.0                     20                 0  2019   \n",
       "7  360050075002      32037.0                     20                 0  2019   \n",
       "\n",
       "   month  \n",
       "2      5  \n",
       "5      5  \n",
       "7      4  "
      ]
     },
     "metadata": {},
     "output_type": "display_data"
    },
    {
     "name": "stdout",
     "output_type": "stream",
     "text": [
      "355498\n"
     ]
    }
   ],
   "source": [
    "sgs_income_df['income_direction'] = np.where(sgs_income_df['home_income'] > sgs_income_df['poi_income'], 1, 0)\n",
    "sgs_income_df['year'] = sgs_income_df['date_range_start'].dt.year\n",
    "sgs_income_df['month'] = sgs_income_df['date_range_start'].dt.month\n",
    "sgs_income_df = sgs_income_df[(sgs_income_df['month'] >= 2) & (sgs_income_df['month'] <=5)]\n",
    "peek(sgs_income_df)"
   ]
  },
  {
   "cell_type": "code",
   "execution_count": 14,
   "id": "retired-investing",
   "metadata": {},
   "outputs": [
    {
     "data": {
      "text/html": [
       "<div>\n",
       "<style scoped>\n",
       "    .dataframe tbody tr th:only-of-type {\n",
       "        vertical-align: middle;\n",
       "    }\n",
       "\n",
       "    .dataframe tbody tr th {\n",
       "        vertical-align: top;\n",
       "    }\n",
       "\n",
       "    .dataframe thead th {\n",
       "        text-align: right;\n",
       "    }\n",
       "</style>\n",
       "<table border=\"1\" class=\"dataframe\">\n",
       "  <thead>\n",
       "    <tr style=\"text-align: right;\">\n",
       "      <th></th>\n",
       "      <th>placekey</th>\n",
       "      <th>date_range_start</th>\n",
       "      <th>median_dwell</th>\n",
       "      <th>contact_density</th>\n",
       "    </tr>\n",
       "  </thead>\n",
       "  <tbody>\n",
       "    <tr>\n",
       "      <th>0</th>\n",
       "      <td>22b-222@627-rwr-4n5</td>\n",
       "      <td>2018-12-31 00:00:00-05:00</td>\n",
       "      <td>26.0</td>\n",
       "      <td>0.039394</td>\n",
       "    </tr>\n",
       "    <tr>\n",
       "      <th>1</th>\n",
       "      <td>22b-222@627-rwr-4n5</td>\n",
       "      <td>2019-01-07 00:00:00-05:00</td>\n",
       "      <td>22.0</td>\n",
       "      <td>0.026984</td>\n",
       "    </tr>\n",
       "    <tr>\n",
       "      <th>2</th>\n",
       "      <td>22b-222@627-rwr-4n5</td>\n",
       "      <td>2019-01-14 00:00:00-05:00</td>\n",
       "      <td>22.0</td>\n",
       "      <td>0.019014</td>\n",
       "    </tr>\n",
       "  </tbody>\n",
       "</table>\n",
       "</div>"
      ],
      "text/plain": [
       "              placekey          date_range_start  median_dwell  \\\n",
       "0  22b-222@627-rwr-4n5 2018-12-31 00:00:00-05:00          26.0   \n",
       "1  22b-222@627-rwr-4n5 2019-01-07 00:00:00-05:00          22.0   \n",
       "2  22b-222@627-rwr-4n5 2019-01-14 00:00:00-05:00          22.0   \n",
       "\n",
       "   contact_density  \n",
       "0         0.039394  \n",
       "1         0.026984  \n",
       "2         0.019014  "
      ]
     },
     "metadata": {},
     "output_type": "display_data"
    },
    {
     "name": "stdout",
     "output_type": "stream",
     "text": [
      "3693204\n"
     ]
    }
   ],
   "source": [
    "poi_weekly_df = pd.read_csv('./exports/poi_weekly.csv')\n",
    "poi_weekly_df = poi_weekly_df[['placekey', 'date_range_start', 'median_dwell', 'contact_density']]\n",
    "repair_dates(poi_weekly_df)\n",
    "peek(poi_weekly_df)"
   ]
  },
  {
   "cell_type": "code",
   "execution_count": 15,
   "id": "celtic-juice",
   "metadata": {},
   "outputs": [],
   "source": [
    "sgs_dwell_df = sgs_income_df.merge(poi_weekly_df, on=['placekey', 'date_range_start'], how='inner')"
   ]
  },
  {
   "cell_type": "code",
   "execution_count": 16,
   "id": "cosmetic-melbourne",
   "metadata": {},
   "outputs": [
    {
     "data": {
      "text/html": [
       "<div>\n",
       "<style scoped>\n",
       "    .dataframe tbody tr th:only-of-type {\n",
       "        vertical-align: middle;\n",
       "    }\n",
       "\n",
       "    .dataframe tbody tr th {\n",
       "        vertical-align: top;\n",
       "    }\n",
       "\n",
       "    .dataframe thead th {\n",
       "        text-align: right;\n",
       "    }\n",
       "</style>\n",
       "<table border=\"1\" class=\"dataframe\">\n",
       "  <thead>\n",
       "    <tr style=\"text-align: right;\">\n",
       "      <th></th>\n",
       "      <th>year</th>\n",
       "      <th>poi_income_percentile</th>\n",
       "      <th>area_square_feet_percentile</th>\n",
       "      <th>estimated_visitor_count</th>\n",
       "      <th>median_dwell</th>\n",
       "      <th>contact_density</th>\n",
       "    </tr>\n",
       "  </thead>\n",
       "  <tbody>\n",
       "    <tr>\n",
       "      <th>0</th>\n",
       "      <td>2019</td>\n",
       "      <td>10</td>\n",
       "      <td>10</td>\n",
       "      <td>19857.731547</td>\n",
       "      <td>28.783558</td>\n",
       "      <td>0.150311</td>\n",
       "    </tr>\n",
       "    <tr>\n",
       "      <th>1</th>\n",
       "      <td>2019</td>\n",
       "      <td>10</td>\n",
       "      <td>20</td>\n",
       "      <td>7101.562829</td>\n",
       "      <td>24.718155</td>\n",
       "      <td>0.067157</td>\n",
       "    </tr>\n",
       "    <tr>\n",
       "      <th>2</th>\n",
       "      <td>2019</td>\n",
       "      <td>10</td>\n",
       "      <td>30</td>\n",
       "      <td>23313.691799</td>\n",
       "      <td>53.763370</td>\n",
       "      <td>0.083333</td>\n",
       "    </tr>\n",
       "  </tbody>\n",
       "</table>\n",
       "</div>"
      ],
      "text/plain": [
       "   year  poi_income_percentile  area_square_feet_percentile  \\\n",
       "0  2019                     10                           10   \n",
       "1  2019                     10                           20   \n",
       "2  2019                     10                           30   \n",
       "\n",
       "   estimated_visitor_count  median_dwell  contact_density  \n",
       "0             19857.731547     28.783558         0.150311  \n",
       "1              7101.562829     24.718155         0.067157  \n",
       "2             23313.691799     53.763370         0.083333  "
      ]
     },
     "metadata": {},
     "output_type": "display_data"
    },
    {
     "name": "stdout",
     "output_type": "stream",
     "text": [
      "200\n"
     ]
    }
   ],
   "source": [
    "sgs_id_df = sgs_dwell_df.groupby(by=['year', 'poi_income_percentile', 'area_square_feet_percentile']).agg({'estimated_visitor_count': 'sum', 'median_dwell': 'mean', 'contact_density': 'median'}).reset_index()\n",
    "peek(sgs_id_df)"
   ]
  },
  {
   "cell_type": "code",
   "execution_count": 17,
   "id": "japanese-arizona",
   "metadata": {},
   "outputs": [
    {
     "data": {
      "text/html": [
       "<div>\n",
       "<style scoped>\n",
       "    .dataframe tbody tr th:only-of-type {\n",
       "        vertical-align: middle;\n",
       "    }\n",
       "\n",
       "    .dataframe tbody tr th {\n",
       "        vertical-align: top;\n",
       "    }\n",
       "\n",
       "    .dataframe thead th {\n",
       "        text-align: right;\n",
       "    }\n",
       "</style>\n",
       "<table border=\"1\" class=\"dataframe\">\n",
       "  <thead>\n",
       "    <tr style=\"text-align: right;\">\n",
       "      <th></th>\n",
       "      <th>year</th>\n",
       "      <th>poi_income_percentile</th>\n",
       "      <th>area_square_feet_percentile</th>\n",
       "      <th>estimated_visitor_count</th>\n",
       "      <th>median_dwell</th>\n",
       "      <th>contact_density</th>\n",
       "      <th>std_estimated_visitor_count</th>\n",
       "    </tr>\n",
       "  </thead>\n",
       "  <tbody>\n",
       "    <tr>\n",
       "      <th>0</th>\n",
       "      <td>2019</td>\n",
       "      <td>10</td>\n",
       "      <td>10</td>\n",
       "      <td>19857.731547</td>\n",
       "      <td>28.783558</td>\n",
       "      <td>0.150311</td>\n",
       "      <td>37.391826</td>\n",
       "    </tr>\n",
       "    <tr>\n",
       "      <th>1</th>\n",
       "      <td>2019</td>\n",
       "      <td>10</td>\n",
       "      <td>20</td>\n",
       "      <td>7101.562829</td>\n",
       "      <td>24.718155</td>\n",
       "      <td>0.067157</td>\n",
       "      <td>-17.399783</td>\n",
       "    </tr>\n",
       "    <tr>\n",
       "      <th>2</th>\n",
       "      <td>2019</td>\n",
       "      <td>10</td>\n",
       "      <td>30</td>\n",
       "      <td>23313.691799</td>\n",
       "      <td>53.763370</td>\n",
       "      <td>0.083333</td>\n",
       "      <td>52.236222</td>\n",
       "    </tr>\n",
       "  </tbody>\n",
       "</table>\n",
       "</div>"
      ],
      "text/plain": [
       "   year  poi_income_percentile  area_square_feet_percentile  \\\n",
       "0  2019                     10                           10   \n",
       "1  2019                     10                           20   \n",
       "2  2019                     10                           30   \n",
       "\n",
       "   estimated_visitor_count  median_dwell  contact_density  \\\n",
       "0             19857.731547     28.783558         0.150311   \n",
       "1              7101.562829     24.718155         0.067157   \n",
       "2             23313.691799     53.763370         0.083333   \n",
       "\n",
       "   std_estimated_visitor_count  \n",
       "0                    37.391826  \n",
       "1                   -17.399783  \n",
       "2                    52.236222  "
      ]
     },
     "metadata": {},
     "output_type": "display_data"
    },
    {
     "name": "stdout",
     "output_type": "stream",
     "text": [
      "200\n"
     ]
    }
   ],
   "source": [
    "from sklearn.preprocessing import StandardScaler\n",
    "sgs_id_df[['std_estimated_visitor_count']] = StandardScaler().fit_transform(sgs_id_df[['estimated_visitor_count']]) * 40 + 20\n",
    "peek(sgs_id_df)"
   ]
  },
  {
   "cell_type": "code",
   "execution_count": 18,
   "id": "excited-armenia",
   "metadata": {},
   "outputs": [
    {
     "data": {
      "text/plain": [
       "<AxesSubplot:xlabel='poi_income_percentile', ylabel='area_square_feet_percentile'>"
      ]
     },
     "execution_count": 18,
     "metadata": {},
     "output_type": "execute_result"
    },
    {
     "data": {
      "image/png": "[encoded data removed]",
      "text/plain": [
       "<Figure size 432x288 with 1 Axes>"
      ]
     },
     "metadata": {
      "needs_background": "light"
     },
     "output_type": "display_data"
    }
   ],
   "source": [
    "sgs_id_df.plot(kind='scatter', x='poi_income_percentile', y='area_square_feet_percentile', s='std_estimated_visitor_count')"
   ]
  },
  {
   "cell_type": "code",
   "execution_count": 19,
   "id": "dimensional-november",
   "metadata": {},
   "outputs": [
    {
     "data": {
      "text/plain": [
       "<AxesSubplot:xlabel='poi_income_percentile', ylabel='area_square_feet_percentile'>"
      ]
     },
     "execution_count": 19,
     "metadata": {},
     "output_type": "execute_result"
    },
    {
     "data": {
      "image/png": "[encoded data removed]",
      "text/plain": [
       "<Figure size 432x288 with 1 Axes>"
      ]
     },
     "metadata": {
      "needs_background": "light"
     },
     "output_type": "display_data"
    },
    {
     "data": {
      "image/png": "[encoded data removed]",
      "text/plain": [
       "<Figure size 432x288 with 1 Axes>"
      ]
     },
     "metadata": {
      "needs_background": "light"
     },
     "output_type": "display_data"
    }
   ],
   "source": [
    "p_2019_df = sgs_id_df[sgs_id_df['year'] == 2019]\n",
    "p_2019_df.plot(kind='scatter', x='poi_income_percentile', y='area_square_feet_percentile', s='std_estimated_visitor_count')\n",
    "p_2020_df = sgs_id_df[sgs_id_df['year'] == 2020]\n",
    "p_2020_df.plot(kind='scatter', x='poi_income_percentile', y='area_square_feet_percentile', s='std_estimated_visitor_count')"
   ]
  },
  {
   "cell_type": "code",
   "execution_count": 20,
   "id": "residential-richards",
   "metadata": {},
   "outputs": [
    {
     "data": {
      "text/plain": [
       "<AxesSubplot:xlabel='area_square_feet_percentile', ylabel='contact_density'>"
      ]
     },
     "execution_count": 20,
     "metadata": {},
     "output_type": "execute_result"
    },
    {
     "data": {
      "image/png": "[encoded data removed]",
      "text/plain": [
       "<Figure size 432x288 with 1 Axes>"
      ]
     },
     "metadata": {
      "needs_background": "light"
     },
     "output_type": "display_data"
    },
    {
     "data": {
      "image/png": "[encoded data removed]",
      "text/plain": [
       "<Figure size 432x288 with 1 Axes>"
      ]
     },
     "metadata": {
      "needs_background": "light"
     },
     "output_type": "display_data"
    }
   ],
   "source": [
    "p_2019_df = sgs_id_df[sgs_id_df['year'] == 2019].groupby(by=['area_square_feet_percentile']).agg({'estimated_visitor_count': 'sum', 'contact_density': 'median'}).reset_index()\n",
    "p_2020_df = sgs_id_df[sgs_id_df['year'] == 2020].groupby(by=['area_square_feet_percentile']).agg({'estimated_visitor_count': 'sum', 'contact_density': 'median'}).reset_index()\n",
    "pdf = p_2020_df.copy()\n",
    "pdf['estimated_visitor_count'] = (p_2020_df['estimated_visitor_count'] - p_2019_df['estimated_visitor_count']) / p_2019_df['estimated_visitor_count']\n",
    "pdf['contact_density'] = (p_2020_df['contact_density'] - p_2019_df['contact_density']) / p_2019_df['contact_density']\n",
    "pdf.plot(kind='scatter', x='area_square_feet_percentile', y='estimated_visitor_count')\n",
    "pdf.plot(kind='scatter', x='area_square_feet_percentile', y='contact_density')"
   ]
  },
  {
   "cell_type": "code",
   "execution_count": null,
   "id": "scientific-classification",
   "metadata": {},
   "outputs": [],
   "source": []
  }
 ],
 "metadata": {
  "kernelspec": {
   "display_name": "Python 3",
   "language": "python",
   "name": "python3"
  },
  "language_info": {
   "codemirror_mode": {
    "name": "ipython",
    "version": 3
   },
   "file_extension": ".py",
   "mimetype": "text/x-python",
   "name": "python",
   "nbconvert_exporter": "python",
   "pygments_lexer": "ipython3",
   "version": "3.7.6"
  }
 },
 "nbformat": 4,
 "nbformat_minor": 5
}
