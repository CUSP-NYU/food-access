{
 "cells": [
  {
   "cell_type": "markdown",
   "metadata": {},
   "source": [
    "## Process Census Data for Clustering\n",
    "### Primary Author\n",
    "Maia Guo\n",
    "\n",
    "### Description:\n",
    "This notebook extracts features from the 2019 5-year census data and 2019 travel data for clustering use.\n",
    "\n",
    "### Inputs:\n",
    "weekly_trips_20211017.csv\n",
    "\n",
    "safegraph_open_census_data_2019 (https://drive.google.com/drive/folders/1Thu78vlZ7KnRdXJllzeEErI90lzT6bSc?usp=sharing)\n",
    "\n",
    "\n",
    "### Output:\n",
    "cbg_estimated_count_2019.csv\n",
    "\n",
    "raw_cbg_attr.csv"
   ]
  },
  {
   "cell_type": "code",
   "execution_count": null,
   "metadata": {
    "colab": {
     "base_uri": "https://localhost:8080/",
     "height": 1000
    },
    "id": "jqlBGe_V99f-",
    "outputId": "deef1eb4-b556-4e07-93ad-87df50513463"
   },
   "outputs": [],
   "source": [
    "!pip install --upgrade pip setuptools wheel\n",
    "!apt install libasound2-dev portaudio19-dev libportaudio2 libportaudiocpp0 ffmpeg\n",
    "!pip install geopandas"
   ]
  },
  {
   "cell_type": "code",
   "execution_count": null,
   "metadata": {
    "colab": {
     "base_uri": "https://localhost:8080/"
    },
    "id": "GgeRg-5g68Es",
    "outputId": "54146c4b-71fc-466a-849d-b235684e2bd8"
   },
   "outputs": [
    {
     "name": "stdout",
     "output_type": "stream",
     "text": [
      "Populating the interactive namespace from numpy and matplotlib\n"
     ]
    }
   ],
   "source": [
    "import numpy as np\n",
    "import pandas as pd\n",
    "import geopandas as gpd\n",
    "import matplotlib.pyplot as plt \n",
    "import json\n",
    "%pylab inline \n",
    "import warnings\n",
    "warnings.filterwarnings('ignore')"
   ]
  },
  {
   "cell_type": "markdown",
   "metadata": {
    "id": "yDbH2BUkD4lp"
   },
   "source": [
    "## Travel Count before COVID\n",
    "\n",
    "Estimated Count = Visitor Count * Population / Device Count\n",
    "\n",
    "Groupby CBG: Mean Weekly Estimated Count of POIs"
   ]
  },
  {
   "cell_type": "code",
   "execution_count": null,
   "metadata": {
    "id": "7BLJiUtJMGLL"
   },
   "outputs": [],
   "source": [
    "trips = pd.read_csv('/content/drive/MyDrive/SafeGraph/Data/weekly_trips_20211017.csv')\n",
    "trips.date_range_start = pd.to_datetime(trips.date_range_start, utc=True)\n",
    "# filter data in 2019\n",
    "trips = trips[(trips.date_range_start>=pd.to_datetime('2019-01-01 00:00:00-00:00', utc=True))&(trips.date_range_start<pd.to_datetime('2020-01-01 00:00:00-00:00', utc=True))]\n",
    "trips.head()"
   ]
  },
  {
   "cell_type": "code",
   "execution_count": null,
   "metadata": {
    "id": "disYPuChDIel"
   },
   "outputs": [],
   "source": [
    "# median values in over 2019\n",
    "travel = trips[['visitor_home_cbg_id', 'date_range_start', 'esimated_visitor_count']].groupby(['visitor_home_cbg_id', 'date_range_start'], as_index=False).median()\n",
    "# median values in each cbg\n",
    "travel = travel.groupby('visitor_home_cbg_id', as_index=False).median()\n",
    "travel.head()"
   ]
  },
  {
   "cell_type": "code",
   "execution_count": null,
   "metadata": {
    "colab": {
     "base_uri": "https://localhost:8080/"
    },
    "id": "66jDJWpZBF24",
    "outputId": "abd684bd-d89d-4f07-ff6b-0a4654debfa7"
   },
   "outputs": [
    {
     "data": {
      "text/plain": [
       "(6338, 2)"
      ]
     },
     "execution_count": 85,
     "metadata": {},
     "output_type": "execute_result"
    }
   ],
   "source": [
    "travel.shape"
   ]
  },
  {
   "cell_type": "code",
   "execution_count": null,
   "metadata": {
    "id": "khlQ7cRNUFPR"
   },
   "outputs": [],
   "source": [
    "travel.to_csv('/content/drive/MyDrive/SafeGraph/Data/cbg_estimated_count_2019.csv', index=False)"
   ]
  },
  {
   "cell_type": "markdown",
   "metadata": {
    "id": "GBv6PBFfa041"
   },
   "source": [
    "## Census Data Processing\n",
    "\n",
    "https://www.census.gov/programs-surveys/acs/guidance/which-data-tool/table-ids-explained.html\n",
    "\n",
    "https://docs.safegraph.com/docs/open-census-data\n",
    "\n",
    "**01 Population; Age; Sex**\n",
    "\n",
    "**02 Race** （Latinxs were 1.6 times more likely than whites to report their food access diminished by “a lot.” Asian respondents also reported significantly reduced ability to get food, with 54.8% reporting reduced access by “a lot” or “somewhat.” ）\n",
    "\n",
    "\n",
    "**11 Household Type**\n",
    "\n",
    "**15 Educational Attainment**\n",
    "\n",
    "**17 Poverty Status**\n",
    "\n",
    "**19 Income** \n",
    "\n",
    "**22 Food Stamps/Supplemental Nutrition Assistance Program (SNAP)**\n",
    "\n",
    "**23 Employment Status; Work Status Last Year** (Current consumption & future expectations)\n"
   ]
  },
  {
   "cell_type": "code",
   "execution_count": null,
   "metadata": {
    "colab": {
     "base_uri": "https://localhost:8080/"
    },
    "id": "MFnMeyE9KC0_",
    "outputId": "6c2f2c51-3745-41eb-e3ee-5a9798724aa3"
   },
   "outputs": [
    {
     "data": {
      "text/plain": [
       "(8120, 15)"
      ]
     },
     "execution_count": 18,
     "metadata": {},
     "output_type": "execute_result"
    }
   ],
   "source": [
    "census_des = pd.read_csv('/content/drive/MyDrive/SafeGraph/SafeGraph Open Census Data/safegraph_open_census_data_2019/metadata/cbg_field_descriptions.csv') \n",
    "census_des.shape"
   ]
  },
  {
   "cell_type": "code",
   "execution_count": null,
   "metadata": {
    "id": "maTDczct0S44"
   },
   "outputs": [],
   "source": [
    "def generate_field_dict(df):\n",
    "    \n",
    "    NAME = []\n",
    "    ID = []\n",
    "    for i in df.index:\n",
    "        if str(df.field_level_6[i]) != 'nan':\n",
    "            NAME.append(df.field_level_6[i])\n",
    "            ID.append(df.table_id[i])\n",
    "        elif str(df.field_level_5[i]) != 'nan':\n",
    "            NAME.append(df.field_level_5[i])\n",
    "            ID.append(df.table_id[i])\n",
    "        else:\n",
    "            NAME.append(df.field_level_3[i])\n",
    "            ID.append(df.table_id[i])\n",
    "\n",
    "    field_dict = dict(zip(ID,NAME))\n",
    "    return field_dict"
   ]
  },
  {
   "cell_type": "code",
   "execution_count": null,
   "metadata": {
    "id": "4kR1rpJkQKnW"
   },
   "outputs": [],
   "source": [
    "def extract_data_columns(field_dict, file_num):\n",
    "    \n",
    "    file_path = '/content/drive/MyDrive/SafeGraph/SafeGraph Open Census Data/safegraph_open_census_data_2019/data/cbg_' + file_num + '.csv'\n",
    "    df = pd.read_csv(file_path)\n",
    "    df_col = df[['census_block_group'] + list(field_dict.keys())].rename(columns=field_dict).set_index('census_block_group')\n",
    "    return df_col"
   ]
  },
  {
   "cell_type": "code",
   "execution_count": null,
   "metadata": {
    "id": "JkeRDf4_Z_i_"
   },
   "outputs": [],
   "source": [
    "def num_to_percent(df, denominator, column_list):\n",
    "    \n",
    "    RENAME = {}\n",
    "    for c in column_list:\n",
    "        df[c] = df[c] / df[denominator]\n",
    "        RENAME[c] = 'Percent ' + c\n",
    "    df = df.rename(columns=RENAME)\n",
    "\n",
    "    return df"
   ]
  },
  {
   "cell_type": "code",
   "execution_count": null,
   "metadata": {
    "colab": {
     "base_uri": "https://localhost:8080/",
     "height": 306
    },
    "id": "Xw9-Goa4KVQE",
    "outputId": "a2b43013-0d65-4757-a2eb-3340f83d4cf1"
   },
   "outputs": [
    {
     "data": {
      "text/html": [
       "<div>\n",
       "<style scoped>\n",
       "    .dataframe tbody tr th:only-of-type {\n",
       "        vertical-align: middle;\n",
       "    }\n",
       "\n",
       "    .dataframe tbody tr th {\n",
       "        vertical-align: top;\n",
       "    }\n",
       "\n",
       "    .dataframe thead th {\n",
       "        text-align: right;\n",
       "    }\n",
       "</style>\n",
       "<table border=\"1\" class=\"dataframe\">\n",
       "  <thead>\n",
       "    <tr style=\"text-align: right;\">\n",
       "      <th></th>\n",
       "      <th>table_id</th>\n",
       "      <th>table_number</th>\n",
       "      <th>table_title</th>\n",
       "      <th>table_topics</th>\n",
       "      <th>table_universe</th>\n",
       "      <th>field_level_1</th>\n",
       "      <th>field_level_2</th>\n",
       "      <th>field_level_3</th>\n",
       "      <th>field_level_4</th>\n",
       "      <th>field_level_5</th>\n",
       "      <th>field_level_6</th>\n",
       "      <th>field_level_7</th>\n",
       "      <th>field_level_8</th>\n",
       "      <th>field_level_9</th>\n",
       "      <th>field_level_10</th>\n",
       "    </tr>\n",
       "  </thead>\n",
       "  <tbody>\n",
       "    <tr>\n",
       "      <th>0</th>\n",
       "      <td>B01001e1</td>\n",
       "      <td>B01001</td>\n",
       "      <td>Sex By Age</td>\n",
       "      <td>Age and Sex</td>\n",
       "      <td>Total population</td>\n",
       "      <td>Estimate</td>\n",
       "      <td>SEX BY AGE</td>\n",
       "      <td>Total population</td>\n",
       "      <td>Total</td>\n",
       "      <td>NaN</td>\n",
       "      <td>NaN</td>\n",
       "      <td>NaN</td>\n",
       "      <td>NaN</td>\n",
       "      <td>NaN</td>\n",
       "      <td>NaN</td>\n",
       "    </tr>\n",
       "    <tr>\n",
       "      <th>11</th>\n",
       "      <td>B01001e2</td>\n",
       "      <td>B01001</td>\n",
       "      <td>Sex By Age</td>\n",
       "      <td>Age and Sex</td>\n",
       "      <td>Total population</td>\n",
       "      <td>Estimate</td>\n",
       "      <td>SEX BY AGE</td>\n",
       "      <td>Total population</td>\n",
       "      <td>Total</td>\n",
       "      <td>Male</td>\n",
       "      <td>NaN</td>\n",
       "      <td>NaN</td>\n",
       "      <td>NaN</td>\n",
       "      <td>NaN</td>\n",
       "      <td>NaN</td>\n",
       "    </tr>\n",
       "    <tr>\n",
       "      <th>18</th>\n",
       "      <td>B01001e26</td>\n",
       "      <td>B01001</td>\n",
       "      <td>Sex By Age</td>\n",
       "      <td>Age and Sex</td>\n",
       "      <td>Total population</td>\n",
       "      <td>Estimate</td>\n",
       "      <td>SEX BY AGE</td>\n",
       "      <td>Total population</td>\n",
       "      <td>Total</td>\n",
       "      <td>Female</td>\n",
       "      <td>NaN</td>\n",
       "      <td>NaN</td>\n",
       "      <td>NaN</td>\n",
       "      <td>NaN</td>\n",
       "      <td>NaN</td>\n",
       "    </tr>\n",
       "    <tr>\n",
       "      <th>122</th>\n",
       "      <td>B01002e1</td>\n",
       "      <td>B01002</td>\n",
       "      <td>Median Age By Sex</td>\n",
       "      <td>Age and Sex</td>\n",
       "      <td>Total population</td>\n",
       "      <td>Estimate</td>\n",
       "      <td>MEDIAN AGE BY SEX</td>\n",
       "      <td>Total population</td>\n",
       "      <td>Median age</td>\n",
       "      <td>Total</td>\n",
       "      <td>NaN</td>\n",
       "      <td>NaN</td>\n",
       "      <td>NaN</td>\n",
       "      <td>NaN</td>\n",
       "      <td>NaN</td>\n",
       "    </tr>\n",
       "    <tr>\n",
       "      <th>123</th>\n",
       "      <td>B01002e2</td>\n",
       "      <td>B01002</td>\n",
       "      <td>Median Age By Sex</td>\n",
       "      <td>Age and Sex</td>\n",
       "      <td>Total population</td>\n",
       "      <td>Estimate</td>\n",
       "      <td>MEDIAN AGE BY SEX</td>\n",
       "      <td>Total population</td>\n",
       "      <td>Median age</td>\n",
       "      <td>Male</td>\n",
       "      <td>NaN</td>\n",
       "      <td>NaN</td>\n",
       "      <td>NaN</td>\n",
       "      <td>NaN</td>\n",
       "      <td>NaN</td>\n",
       "    </tr>\n",
       "    <tr>\n",
       "      <th>124</th>\n",
       "      <td>B01002e3</td>\n",
       "      <td>B01002</td>\n",
       "      <td>Median Age By Sex</td>\n",
       "      <td>Age and Sex</td>\n",
       "      <td>Total population</td>\n",
       "      <td>Estimate</td>\n",
       "      <td>MEDIAN AGE BY SEX</td>\n",
       "      <td>Total population</td>\n",
       "      <td>Median age</td>\n",
       "      <td>Female</td>\n",
       "      <td>NaN</td>\n",
       "      <td>NaN</td>\n",
       "      <td>NaN</td>\n",
       "      <td>NaN</td>\n",
       "      <td>NaN</td>\n",
       "    </tr>\n",
       "  </tbody>\n",
       "</table>\n",
       "</div>"
      ],
      "text/plain": [
       "      table_id table_number  ... field_level_9 field_level_10\n",
       "0     B01001e1       B01001  ...           NaN            NaN\n",
       "11    B01001e2       B01001  ...           NaN            NaN\n",
       "18   B01001e26       B01001  ...           NaN            NaN\n",
       "122   B01002e1       B01002  ...           NaN            NaN\n",
       "123   B01002e2       B01002  ...           NaN            NaN\n",
       "124   B01002e3       B01002  ...           NaN            NaN\n",
       "\n",
       "[6 rows x 15 columns]"
      ]
     },
     "execution_count": 37,
     "metadata": {},
     "output_type": "execute_result"
    }
   ],
   "source": [
    "# 01 pop, age, gender\n",
    "census_des[(census_des.table_number.isin(['B01001', 'B01002']))&(census_des.field_level_1=='Estimate')&(census_des.field_level_6.isnull())] "
   ]
  },
  {
   "cell_type": "code",
   "execution_count": null,
   "metadata": {
    "colab": {
     "base_uri": "https://localhost:8080/",
     "height": 235
    },
    "id": "b3_aIGFdZgxQ",
    "outputId": "f7a21a68-73a8-4afa-9d29-e97e8d0d5aba"
   },
   "outputs": [
    {
     "data": {
      "text/html": [
       "<div>\n",
       "<style scoped>\n",
       "    .dataframe tbody tr th:only-of-type {\n",
       "        vertical-align: middle;\n",
       "    }\n",
       "\n",
       "    .dataframe tbody tr th {\n",
       "        vertical-align: top;\n",
       "    }\n",
       "\n",
       "    .dataframe thead th {\n",
       "        text-align: right;\n",
       "    }\n",
       "</style>\n",
       "<table border=\"1\" class=\"dataframe\">\n",
       "  <thead>\n",
       "    <tr style=\"text-align: right;\">\n",
       "      <th></th>\n",
       "      <th>Total Population</th>\n",
       "      <th>Percent Male</th>\n",
       "      <th>Median Age</th>\n",
       "    </tr>\n",
       "    <tr>\n",
       "      <th>census_block_group</th>\n",
       "      <th></th>\n",
       "      <th></th>\n",
       "      <th></th>\n",
       "    </tr>\n",
       "  </thead>\n",
       "  <tbody>\n",
       "    <tr>\n",
       "      <th>10010201001</th>\n",
       "      <td>730</td>\n",
       "      <td>0.401370</td>\n",
       "      <td>43.3</td>\n",
       "    </tr>\n",
       "    <tr>\n",
       "      <th>10010201002</th>\n",
       "      <td>1263</td>\n",
       "      <td>0.486144</td>\n",
       "      <td>38.2</td>\n",
       "    </tr>\n",
       "    <tr>\n",
       "      <th>10010202001</th>\n",
       "      <td>835</td>\n",
       "      <td>0.470659</td>\n",
       "      <td>38.7</td>\n",
       "    </tr>\n",
       "    <tr>\n",
       "      <th>10010202002</th>\n",
       "      <td>1124</td>\n",
       "      <td>0.591637</td>\n",
       "      <td>42.9</td>\n",
       "    </tr>\n",
       "    <tr>\n",
       "      <th>10010203001</th>\n",
       "      <td>2774</td>\n",
       "      <td>0.512978</td>\n",
       "      <td>37.3</td>\n",
       "    </tr>\n",
       "  </tbody>\n",
       "</table>\n",
       "</div>"
      ],
      "text/plain": [
       "                    Total Population  Percent Male  Median Age\n",
       "census_block_group                                            \n",
       "10010201001                      730      0.401370        43.3\n",
       "10010201002                     1263      0.486144        38.2\n",
       "10010202001                      835      0.470659        38.7\n",
       "10010202002                     1124      0.591637        42.9\n",
       "10010203001                     2774      0.512978        37.3"
      ]
     },
     "execution_count": 58,
     "metadata": {},
     "output_type": "execute_result"
    }
   ],
   "source": [
    "pop_dict = {'B01001e1': 'Total Population',\n",
    "            'B01001e2': 'Male',\n",
    "            'B01002e1': 'Median Age'} # 'B01001e26': 'Female',\n",
    "pop = extract_data_columns(pop_dict, 'b01')\n",
    "# pop['Gender Ratio'] = pop['Male'] / pop['Female'] # lots of inf\n",
    "pop = num_to_percent(pop, 'Total Population', ['Male'])\n",
    "pop.head()"
   ]
  },
  {
   "cell_type": "code",
   "execution_count": null,
   "metadata": {
    "colab": {
     "base_uri": "https://localhost:8080/"
    },
    "id": "TlfCj79KsxqG",
    "outputId": "c0ac875c-726f-49f6-b659-010d6396aac7"
   },
   "outputs": [
    {
     "data": {
      "text/plain": [
       "{'B02001e1': 'Total population',\n",
       " 'B02001e10': 'Two races excluding Some other race and three or more races',\n",
       " 'B02001e2': 'White alone',\n",
       " 'B02001e3': 'Black or African American alone',\n",
       " 'B02001e4': 'American Indian and Alaska Native alone',\n",
       " 'B02001e5': 'Asian alone',\n",
       " 'B02001e6': 'Native Hawaiian and Other Pacific Islander alone',\n",
       " 'B02001e7': 'Some other race alone',\n",
       " 'B02001e8': 'Two or more races',\n",
       " 'B02001e9': 'Two races including Some other race'}"
      ]
     },
     "execution_count": 48,
     "metadata": {},
     "output_type": "execute_result"
    }
   ],
   "source": [
    "# 02 Race \n",
    "race_des = census_des[census_des.table_number.isin(['B02%s' % str(i).zfill(3) for i in range(1, 14)])&\n",
    "           (census_des.field_level_1=='Estimate')&\n",
    "           (census_des.table_title=='Race')]\n",
    "generate_field_dict(race_des)"
   ]
  },
  {
   "cell_type": "code",
   "execution_count": null,
   "metadata": {
    "colab": {
     "base_uri": "https://localhost:8080/",
     "height": 286
    },
    "id": "K1KPr5fqEzhJ",
    "outputId": "7f89ab59-6e77-4783-ed14-68ef4f0ec826"
   },
   "outputs": [
    {
     "data": {
      "text/html": [
       "<div>\n",
       "<style scoped>\n",
       "    .dataframe tbody tr th:only-of-type {\n",
       "        vertical-align: middle;\n",
       "    }\n",
       "\n",
       "    .dataframe tbody tr th {\n",
       "        vertical-align: top;\n",
       "    }\n",
       "\n",
       "    .dataframe thead th {\n",
       "        text-align: right;\n",
       "    }\n",
       "</style>\n",
       "<table border=\"1\" class=\"dataframe\">\n",
       "  <thead>\n",
       "    <tr style=\"text-align: right;\">\n",
       "      <th></th>\n",
       "      <th>Percent Two races excluding Some other race and three or more races</th>\n",
       "      <th>Percent White alone</th>\n",
       "      <th>Percent Black or African American alone</th>\n",
       "      <th>Percent American Indian and Alaska Native alone</th>\n",
       "      <th>Percent Native Hawaiian and Other Pacific Islander alone</th>\n",
       "      <th>Percent Some other race alone</th>\n",
       "      <th>Percent Two or more races</th>\n",
       "      <th>Percent Asian alone &amp; Two races including Some other race</th>\n",
       "    </tr>\n",
       "    <tr>\n",
       "      <th>census_block_group</th>\n",
       "      <th></th>\n",
       "      <th></th>\n",
       "      <th></th>\n",
       "      <th></th>\n",
       "      <th></th>\n",
       "      <th></th>\n",
       "      <th></th>\n",
       "      <th></th>\n",
       "    </tr>\n",
       "  </thead>\n",
       "  <tbody>\n",
       "    <tr>\n",
       "      <th>10010201001</th>\n",
       "      <td>0.078082</td>\n",
       "      <td>0.839726</td>\n",
       "      <td>0.082192</td>\n",
       "      <td>0.0</td>\n",
       "      <td>0.000000</td>\n",
       "      <td>0.000000</td>\n",
       "      <td>0.078082</td>\n",
       "      <td>0.000000</td>\n",
       "    </tr>\n",
       "    <tr>\n",
       "      <th>10010201002</th>\n",
       "      <td>0.076801</td>\n",
       "      <td>0.848773</td>\n",
       "      <td>0.072842</td>\n",
       "      <td>0.0</td>\n",
       "      <td>0.000000</td>\n",
       "      <td>0.000000</td>\n",
       "      <td>0.076801</td>\n",
       "      <td>0.001584</td>\n",
       "    </tr>\n",
       "    <tr>\n",
       "      <th>10010202001</th>\n",
       "      <td>0.037126</td>\n",
       "      <td>0.330539</td>\n",
       "      <td>0.607186</td>\n",
       "      <td>0.0</td>\n",
       "      <td>0.025150</td>\n",
       "      <td>0.000000</td>\n",
       "      <td>0.037126</td>\n",
       "      <td>0.000000</td>\n",
       "    </tr>\n",
       "    <tr>\n",
       "      <th>10010202002</th>\n",
       "      <td>0.022242</td>\n",
       "      <td>0.429715</td>\n",
       "      <td>0.542705</td>\n",
       "      <td>0.0</td>\n",
       "      <td>0.000000</td>\n",
       "      <td>0.005338</td>\n",
       "      <td>0.022242</td>\n",
       "      <td>0.000000</td>\n",
       "    </tr>\n",
       "    <tr>\n",
       "      <th>10010203001</th>\n",
       "      <td>0.029200</td>\n",
       "      <td>0.672675</td>\n",
       "      <td>0.200793</td>\n",
       "      <td>0.0</td>\n",
       "      <td>0.001802</td>\n",
       "      <td>0.083994</td>\n",
       "      <td>0.029200</td>\n",
       "      <td>0.011536</td>\n",
       "    </tr>\n",
       "  </tbody>\n",
       "</table>\n",
       "</div>"
      ],
      "text/plain": [
       "                    Percent Two races excluding Some other race and three or more races  ...  Percent Asian alone & Two races including Some other race\n",
       "census_block_group                                                                       ...                                                           \n",
       "10010201001                                                  0.078082                    ...                                           0.000000        \n",
       "10010201002                                                  0.076801                    ...                                           0.001584        \n",
       "10010202001                                                  0.037126                    ...                                           0.000000        \n",
       "10010202002                                                  0.022242                    ...                                           0.000000        \n",
       "10010203001                                                  0.029200                    ...                                           0.011536        \n",
       "\n",
       "[5 rows x 8 columns]"
      ]
     },
     "execution_count": 59,
     "metadata": {},
     "output_type": "execute_result"
    }
   ],
   "source": [
    "race_dict = generate_field_dict(race_des)\n",
    "race = extract_data_columns(race_dict, 'b02')\n",
    "# merge Asian Alone & Two races including Some other race\n",
    "race['Asian alone & Two races including Some other race'] = race['Asian alone'] + race['Two races including Some other race']\n",
    "race = race.drop(['Asian alone', 'Two races including Some other race'], axis=1)\n",
    "race = num_to_percent(race, 'Total population', race.columns[1:])\n",
    "race = race.iloc[:, 1:]\n",
    "race.head()"
   ]
  },
  {
   "cell_type": "code",
   "execution_count": null,
   "metadata": {
    "colab": {
     "base_uri": "https://localhost:8080/"
    },
    "id": "OxcuPdkFuLnt",
    "outputId": "8a13221c-7454-4493-cba7-3c9bf1492913"
   },
   "outputs": [
    {
     "data": {
      "text/plain": [
       "{'B11005e11': 'Households with no people under 18 years',\n",
       " 'B11005e2': 'Households with one or more people under 18 years',\n",
       " 'B11006e2': 'Households with one or more people 60 years and over',\n",
       " 'B11006e9': 'Households with no people 60 years and over',\n",
       " 'B11007e2': 'Households with one or more people 65 years and over',\n",
       " 'B11007e7': 'Households with no people 65 years and over'}"
      ]
     },
     "execution_count": 60,
     "metadata": {},
     "output_type": "execute_result"
    }
   ],
   "source": [
    "# 11 Household Type\n",
    "B11 = ['B11005', 'B11006', 'B11007'] # family type & children 'B11003'\n",
    "household_des = census_des[census_des.table_number.isin(B11)&\n",
    "           (census_des.field_level_1=='Estimate')&\n",
    "           (census_des.field_level_6.isnull())&\n",
    "           (census_des.field_level_5.notnull())]\n",
    "generate_field_dict(household_des)"
   ]
  },
  {
   "cell_type": "code",
   "execution_count": null,
   "metadata": {
    "colab": {
     "base_uri": "https://localhost:8080/",
     "height": 252
    },
    "id": "BmuOqgQcu79J",
    "outputId": "e38bc030-1006-4393-9f95-fb56293db6c9"
   },
   "outputs": [
    {
     "data": {
      "text/html": [
       "<div>\n",
       "<style scoped>\n",
       "    .dataframe tbody tr th:only-of-type {\n",
       "        vertical-align: middle;\n",
       "    }\n",
       "\n",
       "    .dataframe tbody tr th {\n",
       "        vertical-align: top;\n",
       "    }\n",
       "\n",
       "    .dataframe thead th {\n",
       "        text-align: right;\n",
       "    }\n",
       "</style>\n",
       "<table border=\"1\" class=\"dataframe\">\n",
       "  <thead>\n",
       "    <tr style=\"text-align: right;\">\n",
       "      <th></th>\n",
       "      <th>Total Households</th>\n",
       "      <th>Percent Households with one or more people under 18 years</th>\n",
       "      <th>Percent Households with one or more people 60 years and over</th>\n",
       "    </tr>\n",
       "    <tr>\n",
       "      <th>census_block_group</th>\n",
       "      <th></th>\n",
       "      <th></th>\n",
       "      <th></th>\n",
       "    </tr>\n",
       "  </thead>\n",
       "  <tbody>\n",
       "    <tr>\n",
       "      <th>10010201001</th>\n",
       "      <td>315</td>\n",
       "      <td>0.285714</td>\n",
       "      <td>0.425397</td>\n",
       "    </tr>\n",
       "    <tr>\n",
       "      <th>10010201002</th>\n",
       "      <td>394</td>\n",
       "      <td>0.385787</td>\n",
       "      <td>0.276650</td>\n",
       "    </tr>\n",
       "    <tr>\n",
       "      <th>10010202001</th>\n",
       "      <td>318</td>\n",
       "      <td>0.402516</td>\n",
       "      <td>0.490566</td>\n",
       "    </tr>\n",
       "    <tr>\n",
       "      <th>10010202002</th>\n",
       "      <td>370</td>\n",
       "      <td>0.170270</td>\n",
       "      <td>0.335135</td>\n",
       "    </tr>\n",
       "    <tr>\n",
       "      <th>10010203001</th>\n",
       "      <td>1026</td>\n",
       "      <td>0.416179</td>\n",
       "      <td>0.334308</td>\n",
       "    </tr>\n",
       "  </tbody>\n",
       "</table>\n",
       "</div>"
      ],
      "text/plain": [
       "                    Total Households  ...  Percent Households with one or more people 60 years and over\n",
       "census_block_group                    ...                                                              \n",
       "10010201001                      315  ...                                           0.425397           \n",
       "10010201002                      394  ...                                           0.276650           \n",
       "10010202001                      318  ...                                           0.490566           \n",
       "10010202002                      370  ...                                           0.335135           \n",
       "10010203001                     1026  ...                                           0.334308           \n",
       "\n",
       "[5 rows x 3 columns]"
      ]
     },
     "execution_count": 61,
     "metadata": {},
     "output_type": "execute_result"
    }
   ],
   "source": [
    "household_dict = generate_field_dict(household_des)\n",
    "household_dict['B11005e1'] = 'Total Households'\n",
    "household = extract_data_columns(household_dict, 'b11')\n",
    "household = num_to_percent(household, 'Total Households', household.columns[:-1])\n",
    "household = household[['Total Households',\n",
    "                       'Percent Households with one or more people under 18 years', \n",
    "                       'Percent Households with one or more people 60 years and over']]\n",
    "household.head()"
   ]
  },
  {
   "cell_type": "code",
   "execution_count": null,
   "metadata": {
    "colab": {
     "base_uri": "https://localhost:8080/"
    },
    "id": "Vxsdud3u6OG5",
    "outputId": "e45e7510-180f-4bcd-b5c3-83ac1f3eec58"
   },
   "outputs": [
    {
     "data": {
      "text/plain": [
       "{'B15003e1': 'Population 25 years and over',\n",
       " 'B15003e10': '6th grade',\n",
       " 'B15003e11': '7th grade',\n",
       " 'B15003e12': '8th grade',\n",
       " 'B15003e13': '9th grade',\n",
       " 'B15003e14': '10th grade',\n",
       " 'B15003e15': '11th grade',\n",
       " 'B15003e16': '12th grade no diploma',\n",
       " 'B15003e17': 'Regular high school diploma',\n",
       " 'B15003e18': 'GED or alternative credential',\n",
       " 'B15003e19': 'Some college less than 1 year',\n",
       " 'B15003e2': 'No schooling completed',\n",
       " 'B15003e20': 'Some college 1 or more years no degree',\n",
       " 'B15003e21': \"Associate's degree\",\n",
       " 'B15003e22': \"Bachelor's degree\",\n",
       " 'B15003e23': \"Master's degree\",\n",
       " 'B15003e24': 'Professional school degree',\n",
       " 'B15003e25': 'Doctorate degree',\n",
       " 'B15003e3': 'Nursery school',\n",
       " 'B15003e4': 'Kindergarten',\n",
       " 'B15003e5': '1st grade',\n",
       " 'B15003e6': '2nd grade',\n",
       " 'B15003e7': '3rd grade',\n",
       " 'B15003e8': '4th grade',\n",
       " 'B15003e9': '5th grade',\n",
       " 'B15011e1': \"POPULATION 25 YEARS AND OVER WITH A BACHELOR'S DEGREE OR HIGHER ATTAINMENT\",\n",
       " 'B15011e2': 'Male',\n",
       " 'B15011e21': 'Female'}"
      ]
     },
     "execution_count": 62,
     "metadata": {},
     "output_type": "execute_result"
    }
   ],
   "source": [
    "# 15 Educational Attainment\n",
    "B15 = ['B15003', 'B15011']\n",
    "edu_des = census_des[census_des.table_number.isin(B15)&\n",
    "           (census_des.field_level_1=='Estimate')&\n",
    "           (census_des.field_level_6.isnull())]\n",
    "generate_field_dict(edu_des)"
   ]
  },
  {
   "cell_type": "code",
   "execution_count": null,
   "metadata": {
    "colab": {
     "base_uri": "https://localhost:8080/",
     "height": 235
    },
    "id": "mrQP9sUISwbs",
    "outputId": "286dce3d-f23d-417d-d133-660836c651ad"
   },
   "outputs": [
    {
     "data": {
      "text/html": [
       "<div>\n",
       "<style scoped>\n",
       "    .dataframe tbody tr th:only-of-type {\n",
       "        vertical-align: middle;\n",
       "    }\n",
       "\n",
       "    .dataframe tbody tr th {\n",
       "        vertical-align: top;\n",
       "    }\n",
       "\n",
       "    .dataframe thead th {\n",
       "        text-align: right;\n",
       "    }\n",
       "</style>\n",
       "<table border=\"1\" class=\"dataframe\">\n",
       "  <thead>\n",
       "    <tr style=\"text-align: right;\">\n",
       "      <th></th>\n",
       "      <th>Percent over 25 without a high school diploma</th>\n",
       "      <th>Percent over 25 with a bachelor’s degree or higher</th>\n",
       "    </tr>\n",
       "    <tr>\n",
       "      <th>census_block_group</th>\n",
       "      <th></th>\n",
       "      <th></th>\n",
       "    </tr>\n",
       "  </thead>\n",
       "  <tbody>\n",
       "    <tr>\n",
       "      <th>10010201001</th>\n",
       "      <td>0.207843</td>\n",
       "      <td>0.178431</td>\n",
       "    </tr>\n",
       "    <tr>\n",
       "      <th>10010201002</th>\n",
       "      <td>0.073801</td>\n",
       "      <td>0.329643</td>\n",
       "    </tr>\n",
       "    <tr>\n",
       "      <th>10010202001</th>\n",
       "      <td>0.125230</td>\n",
       "      <td>0.095764</td>\n",
       "    </tr>\n",
       "    <tr>\n",
       "      <th>10010202002</th>\n",
       "      <td>0.162791</td>\n",
       "      <td>0.218605</td>\n",
       "    </tr>\n",
       "    <tr>\n",
       "      <th>10010203001</th>\n",
       "      <td>0.126368</td>\n",
       "      <td>0.196517</td>\n",
       "    </tr>\n",
       "  </tbody>\n",
       "</table>\n",
       "</div>"
      ],
      "text/plain": [
       "                    Percent over 25 without a high school diploma  Percent over 25 with a bachelor’s degree or higher\n",
       "census_block_group                                                                                                   \n",
       "10010201001                                              0.207843                                           0.178431 \n",
       "10010201002                                              0.073801                                           0.329643 \n",
       "10010202001                                              0.125230                                           0.095764 \n",
       "10010202002                                              0.162791                                           0.218605 \n",
       "10010203001                                              0.126368                                           0.196517 "
      ]
     },
     "execution_count": 63,
     "metadata": {},
     "output_type": "execute_result"
    }
   ],
   "source": [
    "# Percent over 25 without a high school diploma\n",
    "edu_dict = generate_field_dict(edu_des)\n",
    "edu = extract_data_columns(edu_dict, 'b15')\n",
    "edu.head()\n",
    "\n",
    "UnderHighSchool = ['6th grade', '7th grade', '8th grade',\n",
    "                  '9th grade', '10th grade', '11th grade', '12th grade no diploma', \n",
    "                  'No schooling completed', '1st grade',\n",
    "                  '2nd grade', '3rd grade', '4th grade', '5th grade',]\n",
    "edu['Percent over 25 without a high school diploma'] = edu[UnderHighSchool].sum(axis=1) / edu['Population 25 years and over']\n",
    "edu['Percent over 25 with a bachelor’s degree or higher'] = edu[\"POPULATION 25 YEARS AND OVER WITH A BACHELOR'S DEGREE OR HIGHER ATTAINMENT\"] / edu['Population 25 years and over']\n",
    "edu = edu[['Percent over 25 without a high school diploma', 'Percent over 25 with a bachelor’s degree or higher']]\n",
    "edu.head()"
   ]
  },
  {
   "cell_type": "code",
   "execution_count": null,
   "metadata": {
    "colab": {
     "base_uri": "https://localhost:8080/"
    },
    "id": "59P-38EQrmNg",
    "outputId": "76de3908-0acf-4d00-d9d8-3c195282f84a"
   },
   "outputs": [
    {
     "data": {
      "text/plain": [
       "{'B17017e1': 'Households',\n",
       " 'B17017e2': 'Income in the past 12 months below poverty level',\n",
       " 'B17017e31': 'Income in the past 12 months at or above poverty level'}"
      ]
     },
     "execution_count": 65,
     "metadata": {},
     "output_type": "execute_result"
    }
   ],
   "source": [
    "# 17 Poverty Status\n",
    "\n",
    "B17 = ['B17017', ] # 'C17002' age ratio 'B17021' pop \n",
    "poverty_des = census_des[census_des.table_number.isin(B17)&\n",
    "           (census_des.field_level_1=='Estimate')&\n",
    "           (census_des.field_level_6.isnull())]\n",
    "generate_field_dict(poverty_des)"
   ]
  },
  {
   "cell_type": "code",
   "execution_count": null,
   "metadata": {
    "colab": {
     "base_uri": "https://localhost:8080/",
     "height": 235
    },
    "id": "RgnKmUQ35ddq",
    "outputId": "78eded5d-5ba1-4ee1-e55a-cbe4ad34cef4"
   },
   "outputs": [
    {
     "data": {
      "text/html": [
       "<div>\n",
       "<style scoped>\n",
       "    .dataframe tbody tr th:only-of-type {\n",
       "        vertical-align: middle;\n",
       "    }\n",
       "\n",
       "    .dataframe tbody tr th {\n",
       "        vertical-align: top;\n",
       "    }\n",
       "\n",
       "    .dataframe thead th {\n",
       "        text-align: right;\n",
       "    }\n",
       "</style>\n",
       "<table border=\"1\" class=\"dataframe\">\n",
       "  <thead>\n",
       "    <tr style=\"text-align: right;\">\n",
       "      <th></th>\n",
       "      <th>Percent Households Income in the past 12 months below poverty level</th>\n",
       "    </tr>\n",
       "    <tr>\n",
       "      <th>census_block_group</th>\n",
       "      <th></th>\n",
       "    </tr>\n",
       "  </thead>\n",
       "  <tbody>\n",
       "    <tr>\n",
       "      <th>10010201001</th>\n",
       "      <td>0.209524</td>\n",
       "    </tr>\n",
       "    <tr>\n",
       "      <th>10010201002</th>\n",
       "      <td>0.134518</td>\n",
       "    </tr>\n",
       "    <tr>\n",
       "      <th>10010202001</th>\n",
       "      <td>0.421384</td>\n",
       "    </tr>\n",
       "    <tr>\n",
       "      <th>10010202002</th>\n",
       "      <td>0.108108</td>\n",
       "    </tr>\n",
       "    <tr>\n",
       "      <th>10010203001</th>\n",
       "      <td>0.099415</td>\n",
       "    </tr>\n",
       "  </tbody>\n",
       "</table>\n",
       "</div>"
      ],
      "text/plain": [
       "                    Percent Households Income in the past 12 months below poverty level\n",
       "census_block_group                                                                     \n",
       "10010201001                                                  0.209524                  \n",
       "10010201002                                                  0.134518                  \n",
       "10010202001                                                  0.421384                  \n",
       "10010202002                                                  0.108108                  \n",
       "10010203001                                                  0.099415                  "
      ]
     },
     "execution_count": 66,
     "metadata": {},
     "output_type": "execute_result"
    }
   ],
   "source": [
    "poverty_dict = generate_field_dict(poverty_des)\n",
    "b17 = pd.read_csv('/content/drive/MyDrive/SafeGraph/SafeGraph Open Census Data/safegraph_open_census_data_2019/data/cbg_b17.csv')\n",
    "poverty = b17[['census_block_group'] + list(poverty_dict.keys())].rename(columns=poverty_dict).set_index('census_block_group')\n",
    "poverty = num_to_percent(poverty, 'Households', poverty.columns[1:])\n",
    "poverty = poverty[['Percent Income in the past 12 months below poverty level']]\n",
    "poverty.columns = ['Percent Households Income in the past 12 months below poverty level']\n",
    "poverty.head()"
   ]
  },
  {
   "cell_type": "code",
   "execution_count": null,
   "metadata": {
    "colab": {
     "base_uri": "https://localhost:8080/",
     "height": 235
    },
    "id": "oWpMchkf1tpr",
    "outputId": "622073ea-9e9f-4182-81b3-157cbb35b096"
   },
   "outputs": [
    {
     "data": {
      "text/html": [
       "<div>\n",
       "<style scoped>\n",
       "    .dataframe tbody tr th:only-of-type {\n",
       "        vertical-align: middle;\n",
       "    }\n",
       "\n",
       "    .dataframe tbody tr th {\n",
       "        vertical-align: top;\n",
       "    }\n",
       "\n",
       "    .dataframe thead th {\n",
       "        text-align: right;\n",
       "    }\n",
       "</style>\n",
       "<table border=\"1\" class=\"dataframe\">\n",
       "  <thead>\n",
       "    <tr style=\"text-align: right;\">\n",
       "      <th></th>\n",
       "      <th>Median Household Income</th>\n",
       "    </tr>\n",
       "    <tr>\n",
       "      <th>census_block_group</th>\n",
       "      <th></th>\n",
       "    </tr>\n",
       "  </thead>\n",
       "  <tbody>\n",
       "    <tr>\n",
       "      <th>10010201001</th>\n",
       "      <td>35703.0</td>\n",
       "    </tr>\n",
       "    <tr>\n",
       "      <th>10010201002</th>\n",
       "      <td>79000.0</td>\n",
       "    </tr>\n",
       "    <tr>\n",
       "      <th>10010202001</th>\n",
       "      <td>26500.0</td>\n",
       "    </tr>\n",
       "    <tr>\n",
       "      <th>10010202002</th>\n",
       "      <td>51042.0</td>\n",
       "    </tr>\n",
       "    <tr>\n",
       "      <th>10010203001</th>\n",
       "      <td>59048.0</td>\n",
       "    </tr>\n",
       "  </tbody>\n",
       "</table>\n",
       "</div>"
      ],
      "text/plain": [
       "                    Median Household Income\n",
       "census_block_group                         \n",
       "10010201001                         35703.0\n",
       "10010201002                         79000.0\n",
       "10010202001                         26500.0\n",
       "10010202002                         51042.0\n",
       "10010203001                         59048.0"
      ]
     },
     "execution_count": 67,
     "metadata": {},
     "output_type": "execute_result"
    }
   ],
   "source": [
    "# 19 Income\n",
    "census_des[(census_des.table_number == 'B19013')&(census_des.field_level_1=='Estimate')]\n",
    "b19 = pd.read_csv('/content/drive/MyDrive/SafeGraph/SafeGraph Open Census Data/safegraph_open_census_data_2019/data/cbg_b19.csv')\n",
    "income = b19[['census_block_group', 'B19013e1']].rename(columns={'B19013e1': 'Median Household Income'}).set_index('census_block_group')\n",
    "income.head()"
   ]
  },
  {
   "cell_type": "code",
   "execution_count": null,
   "metadata": {
    "colab": {
     "base_uri": "https://localhost:8080/"
    },
    "id": "Z-UHE1v1dRla",
    "outputId": "06c86e27-3618-4ca5-8708-850fec788358"
   },
   "outputs": [
    {
     "data": {
      "text/plain": [
       "{'B22010e1': 'Households',\n",
       " 'B22010e2': 'Household received Food Stamps/SNAP in the past 12 months',\n",
       " 'B22010e3': 'Households with 1 or more persons with a disability',\n",
       " 'B22010e4': 'Households with no persons with a disability',\n",
       " 'B22010e5': 'Household did not receive Food Stamps/SNAP in the past 12 months',\n",
       " 'B22010e6': 'Households with 1 or more persons with a disability',\n",
       " 'B22010e7': 'Households with no persons with a disability'}"
      ]
     },
     "execution_count": 19,
     "metadata": {},
     "output_type": "execute_result"
    }
   ],
   "source": [
    "# 22 Food Stamps/Supplemental Nutrition Assistance Program (SNAP)\n",
    "snap_des = census_des[census_des.table_number.isin(['B22%s' % str(i).zfill(3) for i in range(1, 20)])&\n",
    "           (census_des.field_level_1=='Estimate')]\n",
    "generate_field_dict(snap_des)"
   ]
  },
  {
   "cell_type": "code",
   "execution_count": null,
   "metadata": {
    "colab": {
     "base_uri": "https://localhost:8080/",
     "height": 235
    },
    "id": "hdSwofc_fIBc",
    "outputId": "7865d00b-f754-4fe3-97c4-f53f110a9603"
   },
   "outputs": [
    {
     "data": {
      "text/html": [
       "<div>\n",
       "<style scoped>\n",
       "    .dataframe tbody tr th:only-of-type {\n",
       "        vertical-align: middle;\n",
       "    }\n",
       "\n",
       "    .dataframe tbody tr th {\n",
       "        vertical-align: top;\n",
       "    }\n",
       "\n",
       "    .dataframe thead th {\n",
       "        text-align: right;\n",
       "    }\n",
       "</style>\n",
       "<table border=\"1\" class=\"dataframe\">\n",
       "  <thead>\n",
       "    <tr style=\"text-align: right;\">\n",
       "      <th></th>\n",
       "      <th>Percent Household received Food Stamps/SNAP</th>\n",
       "      <th>Percent Households received Food Stamps/SNAP have disability</th>\n",
       "    </tr>\n",
       "    <tr>\n",
       "      <th>census_block_group</th>\n",
       "      <th></th>\n",
       "      <th></th>\n",
       "    </tr>\n",
       "  </thead>\n",
       "  <tbody>\n",
       "    <tr>\n",
       "      <th>10010201001</th>\n",
       "      <td>0.196825</td>\n",
       "      <td>0.516129</td>\n",
       "    </tr>\n",
       "    <tr>\n",
       "      <th>10010201002</th>\n",
       "      <td>0.157360</td>\n",
       "      <td>0.483871</td>\n",
       "    </tr>\n",
       "    <tr>\n",
       "      <th>10010202001</th>\n",
       "      <td>0.383648</td>\n",
       "      <td>0.196721</td>\n",
       "    </tr>\n",
       "    <tr>\n",
       "      <th>10010202002</th>\n",
       "      <td>0.140541</td>\n",
       "      <td>0.307692</td>\n",
       "    </tr>\n",
       "    <tr>\n",
       "      <th>10010203001</th>\n",
       "      <td>0.117934</td>\n",
       "      <td>0.793388</td>\n",
       "    </tr>\n",
       "  </tbody>\n",
       "</table>\n",
       "</div>"
      ],
      "text/plain": [
       "                    Percent Household received Food Stamps/SNAP  Percent Households received Food Stamps/SNAP have disability\n",
       "census_block_group                                                                                                           \n",
       "10010201001                                            0.196825                                           0.516129           \n",
       "10010201002                                            0.157360                                           0.483871           \n",
       "10010202001                                            0.383648                                           0.196721           \n",
       "10010202002                                            0.140541                                           0.307692           \n",
       "10010203001                                            0.117934                                           0.793388           "
      ]
     },
     "execution_count": 68,
     "metadata": {},
     "output_type": "execute_result"
    }
   ],
   "source": [
    "snap_dict = {'B22010e1': 'Households',\n",
    "             'B22010e2': 'Household received Food Stamps/SNAP',\n",
    "             'B22010e3': 'Households received Food Stamps/SNAP have disability',\n",
    "             'B22010e5': 'Household did not receive Food Stamps/SNAP',\n",
    "             'B22010e6': 'Households did not received Food Stamps/SNAP with disability'}\n",
    "b22 = pd.read_csv('/content/drive/MyDrive/SafeGraph/SafeGraph Open Census Data/safegraph_open_census_data_2019/data/cbg_b22.csv')\n",
    "snap = b22[['census_block_group'] + list(snap_dict.keys())].rename(columns=snap_dict).set_index('census_block_group')\n",
    "# snap['Percent Households with disability received Food Stamps/SNAP'] = snap.iloc[:, 2] / (snap.iloc[:, 2] + snap.iloc[:, 4])\n",
    "snap = num_to_percent(snap, 'Households', snap.columns[1:5]).drop('Households', axis=1)\n",
    "snap.iloc[:, 1] = snap.iloc[:, 1] / snap.iloc[:, 0]\n",
    "snap = snap.drop(['Percent Household did not receive Food Stamps/SNAP', \n",
    "                  'Percent Households did not received Food Stamps/SNAP with disability'], axis=1)\n",
    "snap.head()"
   ]
  },
  {
   "cell_type": "code",
   "execution_count": null,
   "metadata": {
    "colab": {
     "base_uri": "https://localhost:8080/",
     "height": 366
    },
    "id": "VFzTWRfz1-Zl",
    "outputId": "aa4ddfb8-0999-42a3-953a-54f86249c941"
   },
   "outputs": [
    {
     "data": {
      "text/html": [
       "<div>\n",
       "<style scoped>\n",
       "    .dataframe tbody tr th:only-of-type {\n",
       "        vertical-align: middle;\n",
       "    }\n",
       "\n",
       "    .dataframe tbody tr th {\n",
       "        vertical-align: top;\n",
       "    }\n",
       "\n",
       "    .dataframe thead th {\n",
       "        text-align: right;\n",
       "    }\n",
       "</style>\n",
       "<table border=\"1\" class=\"dataframe\">\n",
       "  <thead>\n",
       "    <tr style=\"text-align: right;\">\n",
       "      <th></th>\n",
       "      <th>table_id</th>\n",
       "      <th>table_number</th>\n",
       "      <th>table_title</th>\n",
       "      <th>table_topics</th>\n",
       "      <th>table_universe</th>\n",
       "      <th>field_level_1</th>\n",
       "      <th>field_level_2</th>\n",
       "      <th>field_level_3</th>\n",
       "      <th>field_level_4</th>\n",
       "      <th>field_level_5</th>\n",
       "      <th>field_level_6</th>\n",
       "      <th>field_level_7</th>\n",
       "      <th>field_level_8</th>\n",
       "      <th>field_level_9</th>\n",
       "      <th>field_level_10</th>\n",
       "    </tr>\n",
       "  </thead>\n",
       "  <tbody>\n",
       "    <tr>\n",
       "      <th>4164</th>\n",
       "      <td>B23025e3</td>\n",
       "      <td>B23025</td>\n",
       "      <td>Employment Status For The Population 16 Years ...</td>\n",
       "      <td>Employment and Labor Force Status</td>\n",
       "      <td>Population 16 years and over</td>\n",
       "      <td>Estimate</td>\n",
       "      <td>EMPLOYMENT STATUS FOR THE POPULATION 16 YEARS ...</td>\n",
       "      <td>Population 16 years and over</td>\n",
       "      <td>Total</td>\n",
       "      <td>In labor force</td>\n",
       "      <td>Civilian labor force</td>\n",
       "      <td>NaN</td>\n",
       "      <td>NaN</td>\n",
       "      <td>NaN</td>\n",
       "      <td>NaN</td>\n",
       "    </tr>\n",
       "    <tr>\n",
       "      <th>4165</th>\n",
       "      <td>B23025e4</td>\n",
       "      <td>B23025</td>\n",
       "      <td>Employment Status For The Population 16 Years ...</td>\n",
       "      <td>Employment and Labor Force Status</td>\n",
       "      <td>Population 16 years and over</td>\n",
       "      <td>Estimate</td>\n",
       "      <td>EMPLOYMENT STATUS FOR THE POPULATION 16 YEARS ...</td>\n",
       "      <td>Population 16 years and over</td>\n",
       "      <td>Total</td>\n",
       "      <td>In labor force</td>\n",
       "      <td>Civilian labor force</td>\n",
       "      <td>Employed</td>\n",
       "      <td>NaN</td>\n",
       "      <td>NaN</td>\n",
       "      <td>NaN</td>\n",
       "    </tr>\n",
       "    <tr>\n",
       "      <th>4166</th>\n",
       "      <td>B23025e5</td>\n",
       "      <td>B23025</td>\n",
       "      <td>Employment Status For The Population 16 Years ...</td>\n",
       "      <td>Employment and Labor Force Status</td>\n",
       "      <td>Population 16 years and over</td>\n",
       "      <td>Estimate</td>\n",
       "      <td>EMPLOYMENT STATUS FOR THE POPULATION 16 YEARS ...</td>\n",
       "      <td>Population 16 years and over</td>\n",
       "      <td>Total</td>\n",
       "      <td>In labor force</td>\n",
       "      <td>Civilian labor force</td>\n",
       "      <td>Unemployed</td>\n",
       "      <td>NaN</td>\n",
       "      <td>NaN</td>\n",
       "      <td>NaN</td>\n",
       "    </tr>\n",
       "  </tbody>\n",
       "</table>\n",
       "</div>"
      ],
      "text/plain": [
       "      table_id table_number  ... field_level_9 field_level_10\n",
       "4164  B23025e3       B23025  ...           NaN            NaN\n",
       "4165  B23025e4       B23025  ...           NaN            NaN\n",
       "4166  B23025e5       B23025  ...           NaN            NaN\n",
       "\n",
       "[3 rows x 15 columns]"
      ]
     },
     "execution_count": 69,
     "metadata": {},
     "output_type": "execute_result"
    }
   ],
   "source": [
    "# 23 Employment\n",
    "# census_des.table_number.unique()\n",
    "census_des[census_des.table_id.isin(['B23025e4', 'B23025e5', 'B23025e3'])]"
   ]
  },
  {
   "cell_type": "code",
   "execution_count": null,
   "metadata": {
    "colab": {
     "base_uri": "https://localhost:8080/",
     "height": 235
    },
    "id": "KuRzUlteYbbr",
    "outputId": "1e731914-6b85-4ab6-b675-ce6477fa7428"
   },
   "outputs": [
    {
     "data": {
      "text/html": [
       "<div>\n",
       "<style scoped>\n",
       "    .dataframe tbody tr th:only-of-type {\n",
       "        vertical-align: middle;\n",
       "    }\n",
       "\n",
       "    .dataframe tbody tr th {\n",
       "        vertical-align: top;\n",
       "    }\n",
       "\n",
       "    .dataframe thead th {\n",
       "        text-align: right;\n",
       "    }\n",
       "</style>\n",
       "<table border=\"1\" class=\"dataframe\">\n",
       "  <thead>\n",
       "    <tr style=\"text-align: right;\">\n",
       "      <th></th>\n",
       "      <th>Percent Employed</th>\n",
       "      <th>Civilian labor force</th>\n",
       "    </tr>\n",
       "    <tr>\n",
       "      <th>census_block_group</th>\n",
       "      <th></th>\n",
       "      <th></th>\n",
       "    </tr>\n",
       "  </thead>\n",
       "  <tbody>\n",
       "    <tr>\n",
       "      <th>10010201001</th>\n",
       "      <td>0.971875</td>\n",
       "      <td>320</td>\n",
       "    </tr>\n",
       "    <tr>\n",
       "      <th>10010201002</th>\n",
       "      <td>0.971212</td>\n",
       "      <td>660</td>\n",
       "    </tr>\n",
       "    <tr>\n",
       "      <th>10010202001</th>\n",
       "      <td>1.000000</td>\n",
       "      <td>253</td>\n",
       "    </tr>\n",
       "    <tr>\n",
       "      <th>10010202002</th>\n",
       "      <td>0.934394</td>\n",
       "      <td>503</td>\n",
       "    </tr>\n",
       "    <tr>\n",
       "      <th>10010203001</th>\n",
       "      <td>0.961640</td>\n",
       "      <td>1512</td>\n",
       "    </tr>\n",
       "  </tbody>\n",
       "</table>\n",
       "</div>"
      ],
      "text/plain": [
       "                    Percent Employed  Civilian labor force\n",
       "census_block_group                                        \n",
       "10010201001                 0.971875                   320\n",
       "10010201002                 0.971212                   660\n",
       "10010202001                 1.000000                   253\n",
       "10010202002                 0.934394                   503\n",
       "10010203001                 0.961640                  1512"
      ]
     },
     "execution_count": 71,
     "metadata": {},
     "output_type": "execute_result"
    }
   ],
   "source": [
    "c23 = pd.read_csv('/content/drive/MyDrive/SafeGraph/SafeGraph Open Census Data/safegraph_open_census_data_2019/data/cbg_b23.csv')\n",
    "employment = c23[['census_block_group', 'B23025e4', 'B23025e3']].rename(\n",
    "    columns={'B23025e4': 'Employed', 'B23025e3': 'Civilian labor force'}).set_index('census_block_group') # 'B23025e5', , 'B23025e5': 'Unemployed'\n",
    "employment = num_to_percent(employment, 'Civilian labor force', ['Employed']) # , 'Unemployed'\n",
    "employment.head()"
   ]
  },
  {
   "cell_type": "code",
   "execution_count": null,
   "metadata": {
    "colab": {
     "base_uri": "https://localhost:8080/",
     "height": 391
    },
    "id": "Ogv0K9YI62oZ",
    "outputId": "3c4e0404-fb43-40a6-e338-0edd9af332a7"
   },
   "outputs": [
    {
     "data": {
      "text/html": [
       "<div>\n",
       "<style scoped>\n",
       "    .dataframe tbody tr th:only-of-type {\n",
       "        vertical-align: middle;\n",
       "    }\n",
       "\n",
       "    .dataframe tbody tr th {\n",
       "        vertical-align: top;\n",
       "    }\n",
       "\n",
       "    .dataframe thead th {\n",
       "        text-align: right;\n",
       "    }\n",
       "</style>\n",
       "<table border=\"1\" class=\"dataframe\">\n",
       "  <thead>\n",
       "    <tr style=\"text-align: right;\">\n",
       "      <th></th>\n",
       "      <th>Total Population</th>\n",
       "      <th>Percent Male</th>\n",
       "      <th>Median Age</th>\n",
       "      <th>Percent Two races excluding Some other race and three or more races</th>\n",
       "      <th>Percent White alone</th>\n",
       "      <th>Percent Black or African American alone</th>\n",
       "      <th>Percent American Indian and Alaska Native alone</th>\n",
       "      <th>Percent Native Hawaiian and Other Pacific Islander alone</th>\n",
       "      <th>Percent Some other race alone</th>\n",
       "      <th>Percent Two or more races</th>\n",
       "      <th>Percent Asian alone &amp; Two races including Some other race</th>\n",
       "      <th>Total Households</th>\n",
       "      <th>Percent Households with one or more people under 18 years</th>\n",
       "      <th>Percent Households with one or more people 60 years and over</th>\n",
       "      <th>Percent over 25 without a high school diploma</th>\n",
       "      <th>Percent over 25 with a bachelor’s degree or higher</th>\n",
       "      <th>Percent Households Income in the past 12 months below poverty level</th>\n",
       "      <th>Median Household Income</th>\n",
       "      <th>Percent Household received Food Stamps/SNAP</th>\n",
       "      <th>Percent Households received Food Stamps/SNAP have disability</th>\n",
       "      <th>Percent Employed</th>\n",
       "      <th>Percent Civilian labor force</th>\n",
       "    </tr>\n",
       "    <tr>\n",
       "      <th>census_block_group</th>\n",
       "      <th></th>\n",
       "      <th></th>\n",
       "      <th></th>\n",
       "      <th></th>\n",
       "      <th></th>\n",
       "      <th></th>\n",
       "      <th></th>\n",
       "      <th></th>\n",
       "      <th></th>\n",
       "      <th></th>\n",
       "      <th></th>\n",
       "      <th></th>\n",
       "      <th></th>\n",
       "      <th></th>\n",
       "      <th></th>\n",
       "      <th></th>\n",
       "      <th></th>\n",
       "      <th></th>\n",
       "      <th></th>\n",
       "      <th></th>\n",
       "      <th></th>\n",
       "      <th></th>\n",
       "    </tr>\n",
       "  </thead>\n",
       "  <tbody>\n",
       "    <tr>\n",
       "      <th>360050001000</th>\n",
       "      <td>0</td>\n",
       "      <td>NaN</td>\n",
       "      <td>NaN</td>\n",
       "      <td>NaN</td>\n",
       "      <td>NaN</td>\n",
       "      <td>NaN</td>\n",
       "      <td>NaN</td>\n",
       "      <td>NaN</td>\n",
       "      <td>NaN</td>\n",
       "      <td>NaN</td>\n",
       "      <td>NaN</td>\n",
       "      <td>0</td>\n",
       "      <td>NaN</td>\n",
       "      <td>NaN</td>\n",
       "      <td>NaN</td>\n",
       "      <td>NaN</td>\n",
       "      <td>NaN</td>\n",
       "      <td>NaN</td>\n",
       "      <td>NaN</td>\n",
       "      <td>NaN</td>\n",
       "      <td>NaN</td>\n",
       "      <td>NaN</td>\n",
       "    </tr>\n",
       "    <tr>\n",
       "      <th>360050001001</th>\n",
       "      <td>6864</td>\n",
       "      <td>0.924388</td>\n",
       "      <td>35.0</td>\n",
       "      <td>0.015006</td>\n",
       "      <td>0.325321</td>\n",
       "      <td>0.557110</td>\n",
       "      <td>0.002622</td>\n",
       "      <td>0.0</td>\n",
       "      <td>0.073572</td>\n",
       "      <td>0.015006</td>\n",
       "      <td>0.026369</td>\n",
       "      <td>0</td>\n",
       "      <td>NaN</td>\n",
       "      <td>NaN</td>\n",
       "      <td>0.515975</td>\n",
       "      <td>0.014873</td>\n",
       "      <td>NaN</td>\n",
       "      <td>NaN</td>\n",
       "      <td>NaN</td>\n",
       "      <td>NaN</td>\n",
       "      <td>NaN</td>\n",
       "      <td>0.000000</td>\n",
       "    </tr>\n",
       "    <tr>\n",
       "      <th>360050002000</th>\n",
       "      <td>0</td>\n",
       "      <td>NaN</td>\n",
       "      <td>NaN</td>\n",
       "      <td>NaN</td>\n",
       "      <td>NaN</td>\n",
       "      <td>NaN</td>\n",
       "      <td>NaN</td>\n",
       "      <td>NaN</td>\n",
       "      <td>NaN</td>\n",
       "      <td>NaN</td>\n",
       "      <td>NaN</td>\n",
       "      <td>0</td>\n",
       "      <td>NaN</td>\n",
       "      <td>NaN</td>\n",
       "      <td>NaN</td>\n",
       "      <td>NaN</td>\n",
       "      <td>NaN</td>\n",
       "      <td>NaN</td>\n",
       "      <td>NaN</td>\n",
       "      <td>NaN</td>\n",
       "      <td>NaN</td>\n",
       "      <td>NaN</td>\n",
       "    </tr>\n",
       "    <tr>\n",
       "      <th>360050002001</th>\n",
       "      <td>1744</td>\n",
       "      <td>0.444381</td>\n",
       "      <td>40.2</td>\n",
       "      <td>0.014908</td>\n",
       "      <td>0.460436</td>\n",
       "      <td>0.331422</td>\n",
       "      <td>0.000000</td>\n",
       "      <td>0.0</td>\n",
       "      <td>0.193234</td>\n",
       "      <td>0.014908</td>\n",
       "      <td>0.000000</td>\n",
       "      <td>460</td>\n",
       "      <td>0.423913</td>\n",
       "      <td>0.541304</td>\n",
       "      <td>0.246892</td>\n",
       "      <td>0.277975</td>\n",
       "      <td>0.326087</td>\n",
       "      <td>41968.0</td>\n",
       "      <td>0.334783</td>\n",
       "      <td>0.357143</td>\n",
       "      <td>0.762500</td>\n",
       "      <td>0.366972</td>\n",
       "    </tr>\n",
       "    <tr>\n",
       "      <th>360050002002</th>\n",
       "      <td>1569</td>\n",
       "      <td>0.527725</td>\n",
       "      <td>28.9</td>\n",
       "      <td>0.013384</td>\n",
       "      <td>0.368388</td>\n",
       "      <td>0.291906</td>\n",
       "      <td>0.000000</td>\n",
       "      <td>0.0</td>\n",
       "      <td>0.281071</td>\n",
       "      <td>0.058636</td>\n",
       "      <td>0.045252</td>\n",
       "      <td>477</td>\n",
       "      <td>0.421384</td>\n",
       "      <td>0.425577</td>\n",
       "      <td>0.243154</td>\n",
       "      <td>0.303395</td>\n",
       "      <td>0.144654</td>\n",
       "      <td>48523.0</td>\n",
       "      <td>0.190776</td>\n",
       "      <td>0.637363</td>\n",
       "      <td>0.860104</td>\n",
       "      <td>0.369025</td>\n",
       "    </tr>\n",
       "  </tbody>\n",
       "</table>\n",
       "</div>"
      ],
      "text/plain": [
       "                    Total Population  ...  Percent Civilian labor force\n",
       "census_block_group                    ...                              \n",
       "360050001000                       0  ...                           NaN\n",
       "360050001001                    6864  ...                      0.000000\n",
       "360050002000                       0  ...                           NaN\n",
       "360050002001                    1744  ...                      0.366972\n",
       "360050002002                    1569  ...                      0.369025\n",
       "\n",
       "[5 rows x 22 columns]"
      ]
     },
     "execution_count": 72,
     "metadata": {},
     "output_type": "execute_result"
    }
   ],
   "source": [
    "# merge the demographic features \n",
    "census_df = pd.concat([pop, race, household, edu, poverty, income, snap, employment], axis=1)\n",
    "cbg = gpd.read_file('/content/drive/MyDrive/SafeGraph/Data/nyc_cbgs.geojson')\n",
    "census_df = census_df[census_df.index.isin(cbg.CensusBlockGroup)]#.fillna(0)\n",
    "census_df = num_to_percent(census_df, 'Total Population', ['Civilian labor force'])\n",
    "census_df.head()"
   ]
  },
  {
   "cell_type": "code",
   "execution_count": null,
   "metadata": {
    "colab": {
     "base_uri": "https://localhost:8080/"
    },
    "id": "hrB4vnbtlFtS",
    "outputId": "9d4dfce9-c20b-4ba6-9aa0-ab20274dbda6"
   },
   "outputs": [
    {
     "data": {
      "text/plain": [
       "(6493, 22)"
      ]
     },
     "execution_count": 94,
     "metadata": {},
     "output_type": "execute_result"
    }
   ],
   "source": [
    "census_df.shape"
   ]
  },
  {
   "cell_type": "code",
   "execution_count": null,
   "metadata": {
    "id": "NWJM1WzLk9K7"
   },
   "outputs": [],
   "source": [
    "census_df.to_csv('/content/drive/MyDrive/SafeGraph/Data/raw_cbg_attr.csv', index=True)"
   ]
  },
  {
   "cell_type": "code",
   "execution_count": null,
   "metadata": {
    "id": "982SerOPvfRn"
   },
   "outputs": [],
   "source": []
  }
 ],
 "metadata": {
  "colab": {
   "collapsed_sections": [],
   "name": "CBG_KMeans.ipynb",
   "provenance": []
  },
  "kernelspec": {
   "display_name": "Python 3",
   "language": "python",
   "name": "python3"
  },
  "language_info": {
   "codemirror_mode": {
    "name": "ipython",
    "version": 3
   },
   "file_extension": ".py",
   "mimetype": "text/x-python",
   "name": "python",
   "nbconvert_exporter": "python",
   "pygments_lexer": "ipython3",
   "version": "3.6.3"
  }
 },
 "nbformat": 4,
 "nbformat_minor": 1
}
