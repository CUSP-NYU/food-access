{
 "cells": [
  {
   "cell_type": "markdown",
   "id": "altered-award",
   "metadata": {},
   "source": [
    "# Create Weekly Exports\n",
    "\n",
    "#### Primary Author\n",
    "Chris Carey\n",
    "\n",
    "#### Description:\n",
    "This notebook produces drops unneeded columns from point of interest (POI) weekly trip data and inverts them to produce weekly trip data grouped by home census block group (CBG).\n",
    " \n",
    "#### Inputs:\n",
    "```\n",
    "data/cbg_attr_and_cluster.csv\n",
    "data/device_count_nyc_weekly.csv\n",
    "data/weekly_and_core_with_area.csv\n",
    "data/weekly_trips_by_cbg.csv\n",
    "```\n",
    " \n",
    "#### Outputs:\n",
    "```\n",
    "exports/home_weekly.csv\n",
    "exports/poi_weekly.csv\n",
    "```"
   ]
  },
  {
   "cell_type": "code",
   "execution_count": 1,
   "id": "reserved-liberia",
   "metadata": {},
   "outputs": [],
   "source": [
    "import pandas as pd\n",
    "\n",
    "import warnings\n",
    "warnings.filterwarnings('ignore')"
   ]
  },
  {
   "cell_type": "code",
   "execution_count": 2,
   "id": "christian-routine",
   "metadata": {},
   "outputs": [],
   "source": [
    "def peek(df):\n",
    "    display(df.iloc[0:3, :])\n",
    "    print(len(df))\n",
    "    \n",
    "def repair_dates(df):\n",
    "    df['date_range_start'] = pd.to_datetime(df['date_range_start'], utc=True)\n",
    "    df['date_range_start'] = df['date_range_start'].dt.tz_convert('US/Eastern')"
   ]
  },
  {
   "cell_type": "markdown",
   "id": "viral-commercial",
   "metadata": {},
   "source": [
    "## Export Weekly Trip Data by POI CBG"
   ]
  },
  {
   "cell_type": "code",
   "execution_count": 3,
   "id": "operating-metabolism",
   "metadata": {},
   "outputs": [
    {
     "name": "stderr",
     "output_type": "stream",
     "text": [
      "/home/chriscarey/miniconda3/envs/mlc/lib/python3.7/site-packages/IPython/core/interactiveshell.py:3156: DtypeWarning: Columns (2,19,31,32,34) have mixed types.Specify dtype option on import or set low_memory=False.\n",
      "  interactivity=interactivity, compiler=compiler, result=result)\n"
     ]
    }
   ],
   "source": [
    "poi_df = pd.read_csv('./data/weekly_and_core_with_area.csv')"
   ]
  },
  {
   "cell_type": "code",
   "execution_count": 4,
   "id": "helpful-costa",
   "metadata": {},
   "outputs": [],
   "source": [
    "poi_df = poi_df[[\n",
    "    'placekey', 'poi_cbg', 'date_range_start', 'date_range_end',\n",
    "    'raw_visit_counts', 'area_square_feet'\n",
    "]]\n",
    "poi_df['contact_density'] = (poi_df['raw_visit_counts'] / poi_df['area_square_feet'])\n",
    "poi_df = poi_df.drop(\n",
    "    columns=['raw_visit_counts', 'area_square_feet', 'date_range_end'])"
   ]
  },
  {
   "cell_type": "code",
   "execution_count": 5,
   "id": "compound-groove",
   "metadata": {},
   "outputs": [],
   "source": [
    "repair_dates(poi_df)"
   ]
  },
  {
   "cell_type": "code",
   "execution_count": 6,
   "id": "radical-polymer",
   "metadata": {},
   "outputs": [
    {
     "data": {
      "text/html": [
       "<div>\n",
       "<style scoped>\n",
       "    .dataframe tbody tr th:only-of-type {\n",
       "        vertical-align: middle;\n",
       "    }\n",
       "\n",
       "    .dataframe tbody tr th {\n",
       "        vertical-align: top;\n",
       "    }\n",
       "\n",
       "    .dataframe thead th {\n",
       "        text-align: right;\n",
       "    }\n",
       "</style>\n",
       "<table border=\"1\" class=\"dataframe\">\n",
       "  <thead>\n",
       "    <tr style=\"text-align: right;\">\n",
       "      <th></th>\n",
       "      <th>placekey</th>\n",
       "      <th>poi_cbg</th>\n",
       "      <th>date_range_start</th>\n",
       "      <th>contact_density</th>\n",
       "    </tr>\n",
       "  </thead>\n",
       "  <tbody>\n",
       "    <tr>\n",
       "      <th>2818653</th>\n",
       "      <td>22b-222@627-rwr-4n5</td>\n",
       "      <td>360050002001</td>\n",
       "      <td>2018-12-31 00:00:00-05:00</td>\n",
       "      <td>0.039394</td>\n",
       "    </tr>\n",
       "    <tr>\n",
       "      <th>2818654</th>\n",
       "      <td>22b-222@627-rwr-4n5</td>\n",
       "      <td>360050002001</td>\n",
       "      <td>2019-01-07 00:00:00-05:00</td>\n",
       "      <td>0.026984</td>\n",
       "    </tr>\n",
       "    <tr>\n",
       "      <th>2818655</th>\n",
       "      <td>22b-222@627-rwr-4n5</td>\n",
       "      <td>360050002001</td>\n",
       "      <td>2019-01-14 00:00:00-05:00</td>\n",
       "      <td>0.019014</td>\n",
       "    </tr>\n",
       "  </tbody>\n",
       "</table>\n",
       "</div>"
      ],
      "text/plain": [
       "                    placekey       poi_cbg          date_range_start  \\\n",
       "2818653  22b-222@627-rwr-4n5  360050002001 2018-12-31 00:00:00-05:00   \n",
       "2818654  22b-222@627-rwr-4n5  360050002001 2019-01-07 00:00:00-05:00   \n",
       "2818655  22b-222@627-rwr-4n5  360050002001 2019-01-14 00:00:00-05:00   \n",
       "\n",
       "         contact_density  \n",
       "2818653         0.039394  \n",
       "2818654         0.026984  \n",
       "2818655         0.019014  "
      ]
     },
     "metadata": {},
     "output_type": "display_data"
    },
    {
     "name": "stdout",
     "output_type": "stream",
     "text": [
      "3693204\n"
     ]
    }
   ],
   "source": [
    "poi_df = poi_df.sort_values(by=['poi_cbg', 'date_range_start'])\n",
    "peek(poi_df)"
   ]
  },
  {
   "cell_type": "code",
   "execution_count": 7,
   "id": "second-cambridge",
   "metadata": {},
   "outputs": [],
   "source": [
    "poi_df.to_csv(f'./exports/poi_weekly.csv', index=False)"
   ]
  },
  {
   "cell_type": "markdown",
   "id": "literary-shepherd",
   "metadata": {},
   "source": [
    "## Prepare Device Count Data"
   ]
  },
  {
   "cell_type": "code",
   "execution_count": 8,
   "id": "impossible-industry",
   "metadata": {},
   "outputs": [],
   "source": [
    "dc_df = pd.read_csv('./data/device_count_nyc_weekly.csv')"
   ]
  },
  {
   "cell_type": "code",
   "execution_count": 9,
   "id": "defensive-billion",
   "metadata": {},
   "outputs": [],
   "source": [
    "dc_df = dc_df.rename(columns={'origin_census_block_group': 'home_cbg'})\n",
    "dc_df = dc_df.drop(columns=['date_range_end'])"
   ]
  },
  {
   "cell_type": "code",
   "execution_count": 10,
   "id": "growing-filter",
   "metadata": {},
   "outputs": [],
   "source": [
    "repair_dates(dc_df)"
   ]
  },
  {
   "cell_type": "markdown",
   "id": "entire-structure",
   "metadata": {},
   "source": [
    "## Export Weekly Trip Data by Home CBG"
   ]
  },
  {
   "cell_type": "code",
   "execution_count": 11,
   "id": "signed-blanket",
   "metadata": {},
   "outputs": [],
   "source": [
    "trips_df = pd.read_csv('./data/weekly_trips_by_cbg.csv')"
   ]
  },
  {
   "cell_type": "code",
   "execution_count": 12,
   "id": "republican-script",
   "metadata": {},
   "outputs": [
    {
     "data": {
      "text/html": [
       "<div>\n",
       "<style scoped>\n",
       "    .dataframe tbody tr th:only-of-type {\n",
       "        vertical-align: middle;\n",
       "    }\n",
       "\n",
       "    .dataframe tbody tr th {\n",
       "        vertical-align: top;\n",
       "    }\n",
       "\n",
       "    .dataframe thead th {\n",
       "        text-align: right;\n",
       "    }\n",
       "</style>\n",
       "<table border=\"1\" class=\"dataframe\">\n",
       "  <thead>\n",
       "    <tr style=\"text-align: right;\">\n",
       "      <th></th>\n",
       "      <th>placekey</th>\n",
       "      <th>date_range_start</th>\n",
       "      <th>home_cbg</th>\n",
       "      <th>visitor_count</th>\n",
       "    </tr>\n",
       "  </thead>\n",
       "  <tbody>\n",
       "    <tr>\n",
       "      <th>0</th>\n",
       "      <td>222-222@627-s94-nwk</td>\n",
       "      <td>2020-12-21 00:00:00-05:00</td>\n",
       "      <td>360470399002</td>\n",
       "      <td>4</td>\n",
       "    </tr>\n",
       "    <tr>\n",
       "      <th>1</th>\n",
       "      <td>222-222@627-s94-nwk</td>\n",
       "      <td>2020-12-21 00:00:00-05:00</td>\n",
       "      <td>360471142022</td>\n",
       "      <td>4</td>\n",
       "    </tr>\n",
       "    <tr>\n",
       "      <th>2</th>\n",
       "      <td>222-222@627-s94-nwk</td>\n",
       "      <td>2020-12-21 00:00:00-05:00</td>\n",
       "      <td>360470395002</td>\n",
       "      <td>4</td>\n",
       "    </tr>\n",
       "  </tbody>\n",
       "</table>\n",
       "</div>"
      ],
      "text/plain": [
       "              placekey          date_range_start      home_cbg  visitor_count\n",
       "0  222-222@627-s94-nwk 2020-12-21 00:00:00-05:00  360470399002              4\n",
       "1  222-222@627-s94-nwk 2020-12-21 00:00:00-05:00  360471142022              4\n",
       "2  222-222@627-s94-nwk 2020-12-21 00:00:00-05:00  360470395002              4"
      ]
     },
     "metadata": {},
     "output_type": "display_data"
    },
    {
     "name": "stdout",
     "output_type": "stream",
     "text": [
      "27839727\n"
     ]
    }
   ],
   "source": [
    "trips_df = trips_df.rename(columns={'visitor_home_cbg_id': 'home_cbg'})\n",
    "trips_df = trips_df.drop(columns=['poi_cbg', 'date_range_end', 'distance'])\n",
    "repair_dates(trips_df)\n",
    "peek(trips_df)"
   ]
  },
  {
   "cell_type": "code",
   "execution_count": 13,
   "id": "future-maldives",
   "metadata": {},
   "outputs": [
    {
     "data": {
      "text/html": [
       "<div>\n",
       "<style scoped>\n",
       "    .dataframe tbody tr th:only-of-type {\n",
       "        vertical-align: middle;\n",
       "    }\n",
       "\n",
       "    .dataframe tbody tr th {\n",
       "        vertical-align: top;\n",
       "    }\n",
       "\n",
       "    .dataframe thead th {\n",
       "        text-align: right;\n",
       "    }\n",
       "</style>\n",
       "<table border=\"1\" class=\"dataframe\">\n",
       "  <thead>\n",
       "    <tr style=\"text-align: right;\">\n",
       "      <th></th>\n",
       "      <th>placekey</th>\n",
       "      <th>date_range_start</th>\n",
       "      <th>home_cbg</th>\n",
       "      <th>visitor_count</th>\n",
       "      <th>device_count</th>\n",
       "    </tr>\n",
       "  </thead>\n",
       "  <tbody>\n",
       "    <tr>\n",
       "      <th>0</th>\n",
       "      <td>222-222@627-s94-nwk</td>\n",
       "      <td>2020-12-21 00:00:00-05:00</td>\n",
       "      <td>360470399002</td>\n",
       "      <td>4</td>\n",
       "      <td>192</td>\n",
       "    </tr>\n",
       "    <tr>\n",
       "      <th>1</th>\n",
       "      <td>22m-222@627-s96-pqf</td>\n",
       "      <td>2020-12-21 00:00:00-05:00</td>\n",
       "      <td>360470399002</td>\n",
       "      <td>5</td>\n",
       "      <td>192</td>\n",
       "    </tr>\n",
       "    <tr>\n",
       "      <th>2</th>\n",
       "      <td>22d-222@627-s7r-49z</td>\n",
       "      <td>2020-12-21 00:00:00-05:00</td>\n",
       "      <td>360470399002</td>\n",
       "      <td>4</td>\n",
       "      <td>192</td>\n",
       "    </tr>\n",
       "  </tbody>\n",
       "</table>\n",
       "</div>"
      ],
      "text/plain": [
       "              placekey          date_range_start      home_cbg  visitor_count  \\\n",
       "0  222-222@627-s94-nwk 2020-12-21 00:00:00-05:00  360470399002              4   \n",
       "1  22m-222@627-s96-pqf 2020-12-21 00:00:00-05:00  360470399002              5   \n",
       "2  22d-222@627-s7r-49z 2020-12-21 00:00:00-05:00  360470399002              4   \n",
       "\n",
       "   device_count  \n",
       "0           192  \n",
       "1           192  \n",
       "2           192  "
      ]
     },
     "metadata": {},
     "output_type": "display_data"
    },
    {
     "name": "stdout",
     "output_type": "stream",
     "text": [
      "27825638\n"
     ]
    }
   ],
   "source": [
    "merged_df = trips_df.merge(dc_df,\n",
    "                           on=['home_cbg', 'date_range_start'],\n",
    "                           how='inner')\n",
    "peek(merged_df)"
   ]
  },
  {
   "cell_type": "code",
   "execution_count": 15,
   "id": "middle-therapy",
   "metadata": {},
   "outputs": [],
   "source": [
    "population_df = pd.read_csv('./data/cbg_attr_and_cluster_1021.csv')"
   ]
  },
  {
   "cell_type": "code",
   "execution_count": 16,
   "id": "recognized-collapse",
   "metadata": {},
   "outputs": [],
   "source": [
    "population_df = population_df[['census_block_group', 'Total Population']]\n",
    "population_df = population_df.rename(columns={\n",
    "    'census_block_group': 'home_cbg',\n",
    "    'Total Population': 'population'\n",
    "})"
   ]
  },
  {
   "cell_type": "code",
   "execution_count": 17,
   "id": "relative-address",
   "metadata": {},
   "outputs": [
    {
     "data": {
      "text/html": [
       "<div>\n",
       "<style scoped>\n",
       "    .dataframe tbody tr th:only-of-type {\n",
       "        vertical-align: middle;\n",
       "    }\n",
       "\n",
       "    .dataframe tbody tr th {\n",
       "        vertical-align: top;\n",
       "    }\n",
       "\n",
       "    .dataframe thead th {\n",
       "        text-align: right;\n",
       "    }\n",
       "</style>\n",
       "<table border=\"1\" class=\"dataframe\">\n",
       "  <thead>\n",
       "    <tr style=\"text-align: right;\">\n",
       "      <th></th>\n",
       "      <th>home_cbg</th>\n",
       "      <th>population</th>\n",
       "    </tr>\n",
       "  </thead>\n",
       "  <tbody>\n",
       "    <tr>\n",
       "      <th>0</th>\n",
       "      <td>360050001001</td>\n",
       "      <td>6864</td>\n",
       "    </tr>\n",
       "    <tr>\n",
       "      <th>1</th>\n",
       "      <td>360050002001</td>\n",
       "      <td>1744</td>\n",
       "    </tr>\n",
       "    <tr>\n",
       "      <th>2</th>\n",
       "      <td>360050002002</td>\n",
       "      <td>1569</td>\n",
       "    </tr>\n",
       "  </tbody>\n",
       "</table>\n",
       "</div>"
      ],
      "text/plain": [
       "       home_cbg  population\n",
       "0  360050001001        6864\n",
       "1  360050002001        1744\n",
       "2  360050002002        1569"
      ]
     },
     "metadata": {},
     "output_type": "display_data"
    },
    {
     "name": "stdout",
     "output_type": "stream",
     "text": [
      "6221\n"
     ]
    }
   ],
   "source": [
    "peek(population_df)"
   ]
  },
  {
   "cell_type": "code",
   "execution_count": 18,
   "id": "ancient-synthetic",
   "metadata": {},
   "outputs": [],
   "source": [
    "est_df = merged_df.merge(population_df, on=['home_cbg'], how='inner')"
   ]
  },
  {
   "cell_type": "code",
   "execution_count": 19,
   "id": "sublime-cross",
   "metadata": {},
   "outputs": [
    {
     "data": {
      "text/html": [
       "<div>\n",
       "<style scoped>\n",
       "    .dataframe tbody tr th:only-of-type {\n",
       "        vertical-align: middle;\n",
       "    }\n",
       "\n",
       "    .dataframe tbody tr th {\n",
       "        vertical-align: top;\n",
       "    }\n",
       "\n",
       "    .dataframe thead th {\n",
       "        text-align: right;\n",
       "    }\n",
       "</style>\n",
       "<table border=\"1\" class=\"dataframe\">\n",
       "  <thead>\n",
       "    <tr style=\"text-align: right;\">\n",
       "      <th></th>\n",
       "      <th>placekey</th>\n",
       "      <th>date_range_start</th>\n",
       "      <th>home_cbg</th>\n",
       "      <th>visitor_count</th>\n",
       "      <th>device_count</th>\n",
       "      <th>population</th>\n",
       "      <th>estimated_visitor_count</th>\n",
       "    </tr>\n",
       "  </thead>\n",
       "  <tbody>\n",
       "    <tr>\n",
       "      <th>0</th>\n",
       "      <td>222-222@627-s94-nwk</td>\n",
       "      <td>2020-12-21 00:00:00-05:00</td>\n",
       "      <td>360470399002</td>\n",
       "      <td>4</td>\n",
       "      <td>192</td>\n",
       "      <td>1487</td>\n",
       "      <td>30.979167</td>\n",
       "    </tr>\n",
       "    <tr>\n",
       "      <th>1</th>\n",
       "      <td>22m-222@627-s96-pqf</td>\n",
       "      <td>2020-12-21 00:00:00-05:00</td>\n",
       "      <td>360470399002</td>\n",
       "      <td>5</td>\n",
       "      <td>192</td>\n",
       "      <td>1487</td>\n",
       "      <td>38.723958</td>\n",
       "    </tr>\n",
       "    <tr>\n",
       "      <th>2</th>\n",
       "      <td>22d-222@627-s7r-49z</td>\n",
       "      <td>2020-12-21 00:00:00-05:00</td>\n",
       "      <td>360470399002</td>\n",
       "      <td>4</td>\n",
       "      <td>192</td>\n",
       "      <td>1487</td>\n",
       "      <td>30.979167</td>\n",
       "    </tr>\n",
       "  </tbody>\n",
       "</table>\n",
       "</div>"
      ],
      "text/plain": [
       "              placekey          date_range_start      home_cbg  visitor_count  \\\n",
       "0  222-222@627-s94-nwk 2020-12-21 00:00:00-05:00  360470399002              4   \n",
       "1  22m-222@627-s96-pqf 2020-12-21 00:00:00-05:00  360470399002              5   \n",
       "2  22d-222@627-s7r-49z 2020-12-21 00:00:00-05:00  360470399002              4   \n",
       "\n",
       "   device_count  population  estimated_visitor_count  \n",
       "0           192        1487                30.979167  \n",
       "1           192        1487                38.723958  \n",
       "2           192        1487                30.979167  "
      ]
     },
     "metadata": {},
     "output_type": "display_data"
    },
    {
     "name": "stdout",
     "output_type": "stream",
     "text": [
      "27738422\n"
     ]
    }
   ],
   "source": [
    "est_df['estimated_visitor_count'] = (est_df['visitor_count'] *\n",
    "                                     est_df['population'] /\n",
    "                                     est_df['device_count'])\n",
    "peek(est_df)"
   ]
  },
  {
   "cell_type": "code",
   "execution_count": 20,
   "id": "bearing-applicant",
   "metadata": {},
   "outputs": [],
   "source": [
    "est_df = est_df.drop(columns=['device_count', 'population'])"
   ]
  },
  {
   "cell_type": "code",
   "execution_count": 21,
   "id": "therapeutic-income",
   "metadata": {},
   "outputs": [
    {
     "data": {
      "text/html": [
       "<div>\n",
       "<style scoped>\n",
       "    .dataframe tbody tr th:only-of-type {\n",
       "        vertical-align: middle;\n",
       "    }\n",
       "\n",
       "    .dataframe tbody tr th {\n",
       "        vertical-align: top;\n",
       "    }\n",
       "\n",
       "    .dataframe thead th {\n",
       "        text-align: right;\n",
       "    }\n",
       "</style>\n",
       "<table border=\"1\" class=\"dataframe\">\n",
       "  <thead>\n",
       "    <tr style=\"text-align: right;\">\n",
       "      <th></th>\n",
       "      <th>home_cbg</th>\n",
       "      <th>date_range_start</th>\n",
       "      <th>visitor_count</th>\n",
       "      <th>estimated_visitor_count</th>\n",
       "    </tr>\n",
       "  </thead>\n",
       "  <tbody>\n",
       "    <tr>\n",
       "      <th>0</th>\n",
       "      <td>360050001001</td>\n",
       "      <td>2018-12-31 00:00:00-05:00</td>\n",
       "      <td>16</td>\n",
       "      <td>1056.000000</td>\n",
       "    </tr>\n",
       "    <tr>\n",
       "      <th>1</th>\n",
       "      <td>360050001001</td>\n",
       "      <td>2019-01-07 00:00:00-05:00</td>\n",
       "      <td>8</td>\n",
       "      <td>406.755556</td>\n",
       "    </tr>\n",
       "    <tr>\n",
       "      <th>2</th>\n",
       "      <td>360050001001</td>\n",
       "      <td>2019-01-14 00:00:00-05:00</td>\n",
       "      <td>20</td>\n",
       "      <td>1064.186047</td>\n",
       "    </tr>\n",
       "  </tbody>\n",
       "</table>\n",
       "</div>"
      ],
      "text/plain": [
       "       home_cbg          date_range_start  visitor_count  \\\n",
       "0  360050001001 2018-12-31 00:00:00-05:00             16   \n",
       "1  360050001001 2019-01-07 00:00:00-05:00              8   \n",
       "2  360050001001 2019-01-14 00:00:00-05:00             20   \n",
       "\n",
       "   estimated_visitor_count  \n",
       "0              1056.000000  \n",
       "1               406.755556  \n",
       "2              1064.186047  "
      ]
     },
     "metadata": {},
     "output_type": "display_data"
    },
    {
     "name": "stdout",
     "output_type": "stream",
     "text": [
      "680133\n"
     ]
    }
   ],
   "source": [
    "# Sum visitor count and estimated visitor count per CBG.\n",
    "total_df = est_df.groupby(by=['home_cbg', 'date_range_start']).agg({'visitor_count': 'sum', 'estimated_visitor_count': 'sum'}).reset_index()\n",
    "peek(total_df)"
   ]
  },
  {
   "cell_type": "code",
   "execution_count": 22,
   "id": "judicial-closure",
   "metadata": {},
   "outputs": [
    {
     "data": {
      "text/html": [
       "<div>\n",
       "<style scoped>\n",
       "    .dataframe tbody tr th:only-of-type {\n",
       "        vertical-align: middle;\n",
       "    }\n",
       "\n",
       "    .dataframe tbody tr th {\n",
       "        vertical-align: top;\n",
       "    }\n",
       "\n",
       "    .dataframe thead th {\n",
       "        text-align: right;\n",
       "    }\n",
       "</style>\n",
       "<table border=\"1\" class=\"dataframe\">\n",
       "  <thead>\n",
       "    <tr style=\"text-align: right;\">\n",
       "      <th></th>\n",
       "      <th>placekey</th>\n",
       "      <th>date_range_start</th>\n",
       "      <th>home_cbg</th>\n",
       "      <th>visitor_count_to_poi</th>\n",
       "      <th>estimated_visitor_count_to_poi</th>\n",
       "      <th>visitor_count_to_all</th>\n",
       "      <th>estimated_visitor_count_to_all</th>\n",
       "    </tr>\n",
       "  </thead>\n",
       "  <tbody>\n",
       "    <tr>\n",
       "      <th>0</th>\n",
       "      <td>222-222@627-s94-nwk</td>\n",
       "      <td>2020-12-21 00:00:00-05:00</td>\n",
       "      <td>360470399002</td>\n",
       "      <td>4</td>\n",
       "      <td>30.979167</td>\n",
       "      <td>41</td>\n",
       "      <td>317.536458</td>\n",
       "    </tr>\n",
       "    <tr>\n",
       "      <th>1</th>\n",
       "      <td>22m-222@627-s96-pqf</td>\n",
       "      <td>2020-12-21 00:00:00-05:00</td>\n",
       "      <td>360470399002</td>\n",
       "      <td>5</td>\n",
       "      <td>38.723958</td>\n",
       "      <td>41</td>\n",
       "      <td>317.536458</td>\n",
       "    </tr>\n",
       "    <tr>\n",
       "      <th>2</th>\n",
       "      <td>22d-222@627-s7r-49z</td>\n",
       "      <td>2020-12-21 00:00:00-05:00</td>\n",
       "      <td>360470399002</td>\n",
       "      <td>4</td>\n",
       "      <td>30.979167</td>\n",
       "      <td>41</td>\n",
       "      <td>317.536458</td>\n",
       "    </tr>\n",
       "  </tbody>\n",
       "</table>\n",
       "</div>"
      ],
      "text/plain": [
       "              placekey          date_range_start      home_cbg  \\\n",
       "0  222-222@627-s94-nwk 2020-12-21 00:00:00-05:00  360470399002   \n",
       "1  22m-222@627-s96-pqf 2020-12-21 00:00:00-05:00  360470399002   \n",
       "2  22d-222@627-s7r-49z 2020-12-21 00:00:00-05:00  360470399002   \n",
       "\n",
       "   visitor_count_to_poi  estimated_visitor_count_to_poi  visitor_count_to_all  \\\n",
       "0                     4                       30.979167                    41   \n",
       "1                     5                       38.723958                    41   \n",
       "2                     4                       30.979167                    41   \n",
       "\n",
       "   estimated_visitor_count_to_all  \n",
       "0                      317.536458  \n",
       "1                      317.536458  \n",
       "2                      317.536458  "
      ]
     },
     "metadata": {},
     "output_type": "display_data"
    },
    {
     "name": "stdout",
     "output_type": "stream",
     "text": [
      "27738422\n"
     ]
    }
   ],
   "source": [
    "pct_df = est_df.merge(total_df,\n",
    "                      how='left',\n",
    "                      on=['home_cbg', 'date_range_start'],\n",
    "                      suffixes=('_to_poi', '_to_all'))\n",
    "peek(pct_df)"
   ]
  },
  {
   "cell_type": "code",
   "execution_count": 23,
   "id": "silent-motorcycle",
   "metadata": {},
   "outputs": [],
   "source": [
    "pct_df['pct_visitor_count'] = (pct_df['visitor_count_to_poi'] /\n",
    "                               pct_df['visitor_count_to_all'])\n",
    "pct_df['pct_estimated_visitor_count'] = (\n",
    "    pct_df['estimated_visitor_count_to_poi'] /\n",
    "    pct_df['estimated_visitor_count_to_all'])"
   ]
  },
  {
   "cell_type": "code",
   "execution_count": 24,
   "id": "satellite-sunday",
   "metadata": {},
   "outputs": [],
   "source": [
    "pct_df = pct_df.sort_values(by=['home_cbg', 'date_range_start'])"
   ]
  },
  {
   "cell_type": "code",
   "execution_count": 25,
   "id": "therapeutic-democrat",
   "metadata": {},
   "outputs": [
    {
     "data": {
      "text/html": [
       "<div>\n",
       "<style scoped>\n",
       "    .dataframe tbody tr th:only-of-type {\n",
       "        vertical-align: middle;\n",
       "    }\n",
       "\n",
       "    .dataframe tbody tr th {\n",
       "        vertical-align: top;\n",
       "    }\n",
       "\n",
       "    .dataframe thead th {\n",
       "        text-align: right;\n",
       "    }\n",
       "</style>\n",
       "<table border=\"1\" class=\"dataframe\">\n",
       "  <thead>\n",
       "    <tr style=\"text-align: right;\">\n",
       "      <th></th>\n",
       "      <th>home_cbg</th>\n",
       "      <th>date_range_start</th>\n",
       "      <th>visitor_count_to_poi</th>\n",
       "      <th>estimated_visitor_count_to_poi</th>\n",
       "      <th>visitor_count_to_all</th>\n",
       "      <th>estimated_visitor_count_to_all</th>\n",
       "      <th>pct_visitor_count</th>\n",
       "      <th>pct_estimated_visitor_count</th>\n",
       "    </tr>\n",
       "  </thead>\n",
       "  <tbody>\n",
       "    <tr>\n",
       "      <th>0</th>\n",
       "      <td>360050001001</td>\n",
       "      <td>2018-12-31 00:00:00-05:00</td>\n",
       "      <td>16</td>\n",
       "      <td>1056.000000</td>\n",
       "      <td>16</td>\n",
       "      <td>1056.000000</td>\n",
       "      <td>1.0</td>\n",
       "      <td>1.0</td>\n",
       "    </tr>\n",
       "    <tr>\n",
       "      <th>1</th>\n",
       "      <td>360050001001</td>\n",
       "      <td>2019-01-07 00:00:00-05:00</td>\n",
       "      <td>8</td>\n",
       "      <td>406.755556</td>\n",
       "      <td>8</td>\n",
       "      <td>406.755556</td>\n",
       "      <td>1.0</td>\n",
       "      <td>1.0</td>\n",
       "    </tr>\n",
       "    <tr>\n",
       "      <th>2</th>\n",
       "      <td>360050001001</td>\n",
       "      <td>2019-01-14 00:00:00-05:00</td>\n",
       "      <td>20</td>\n",
       "      <td>1064.186047</td>\n",
       "      <td>20</td>\n",
       "      <td>1064.186047</td>\n",
       "      <td>1.0</td>\n",
       "      <td>1.0</td>\n",
       "    </tr>\n",
       "  </tbody>\n",
       "</table>\n",
       "</div>"
      ],
      "text/plain": [
       "       home_cbg          date_range_start  visitor_count_to_poi  \\\n",
       "0  360050001001 2018-12-31 00:00:00-05:00                    16   \n",
       "1  360050001001 2019-01-07 00:00:00-05:00                     8   \n",
       "2  360050001001 2019-01-14 00:00:00-05:00                    20   \n",
       "\n",
       "   estimated_visitor_count_to_poi  visitor_count_to_all  \\\n",
       "0                     1056.000000                    16   \n",
       "1                      406.755556                     8   \n",
       "2                     1064.186047                    20   \n",
       "\n",
       "   estimated_visitor_count_to_all  pct_visitor_count  \\\n",
       "0                     1056.000000                1.0   \n",
       "1                      406.755556                1.0   \n",
       "2                     1064.186047                1.0   \n",
       "\n",
       "   pct_estimated_visitor_count  \n",
       "0                          1.0  \n",
       "1                          1.0  \n",
       "2                          1.0  "
      ]
     },
     "metadata": {},
     "output_type": "display_data"
    },
    {
     "name": "stdout",
     "output_type": "stream",
     "text": [
      "680133\n"
     ]
    }
   ],
   "source": [
    "# Sum values and percentages by home_cbg to verify they equal totals/100%.\n",
    "pct_check_df = pct_df.groupby(by=['home_cbg', 'date_range_start']).agg({\n",
    "    'visitor_count_to_poi': 'sum',\n",
    "    'estimated_visitor_count_to_poi': 'sum',\n",
    "    'visitor_count_to_all': 'first',\n",
    "    'estimated_visitor_count_to_all': 'first',\n",
    "    'pct_visitor_count': 'sum',\n",
    "    'pct_estimated_visitor_count': 'sum',\n",
    "}).reset_index()\n",
    "peek(pct_check_df)"
   ]
  },
  {
   "cell_type": "code",
   "execution_count": 26,
   "id": "atlantic-arlington",
   "metadata": {},
   "outputs": [],
   "source": [
    "pct_df = pct_df.fillna(0)\n",
    "pct_df = pct_df.rename(columns={'visitor_count_to_poi': 'visitor_count', 'estimated_visitor_count_to_poi': 'estimated_visitor_count'})\n",
    "pct_df = pct_df.drop(columns=['visitor_count_to_all', 'estimated_visitor_count_to_all'])"
   ]
  },
  {
   "cell_type": "code",
   "execution_count": 27,
   "id": "public-venue",
   "metadata": {},
   "outputs": [
    {
     "data": {
      "text/html": [
       "<div>\n",
       "<style scoped>\n",
       "    .dataframe tbody tr th:only-of-type {\n",
       "        vertical-align: middle;\n",
       "    }\n",
       "\n",
       "    .dataframe tbody tr th {\n",
       "        vertical-align: top;\n",
       "    }\n",
       "\n",
       "    .dataframe thead th {\n",
       "        text-align: right;\n",
       "    }\n",
       "</style>\n",
       "<table border=\"1\" class=\"dataframe\">\n",
       "  <thead>\n",
       "    <tr style=\"text-align: right;\">\n",
       "      <th></th>\n",
       "      <th>placekey</th>\n",
       "      <th>date_range_start</th>\n",
       "      <th>home_cbg</th>\n",
       "      <th>visitor_count</th>\n",
       "      <th>estimated_visitor_count</th>\n",
       "      <th>pct_visitor_count</th>\n",
       "      <th>pct_estimated_visitor_count</th>\n",
       "    </tr>\n",
       "  </thead>\n",
       "  <tbody>\n",
       "    <tr>\n",
       "      <th>4722183</th>\n",
       "      <td>236-222@627-s7z-b6k</td>\n",
       "      <td>2018-12-31 00:00:00-05:00</td>\n",
       "      <td>360050001001</td>\n",
       "      <td>4</td>\n",
       "      <td>264.0</td>\n",
       "      <td>0.25</td>\n",
       "      <td>0.25</td>\n",
       "    </tr>\n",
       "    <tr>\n",
       "      <th>4722184</th>\n",
       "      <td>223-222@627-wg7-7h5</td>\n",
       "      <td>2018-12-31 00:00:00-05:00</td>\n",
       "      <td>360050001001</td>\n",
       "      <td>4</td>\n",
       "      <td>264.0</td>\n",
       "      <td>0.25</td>\n",
       "      <td>0.25</td>\n",
       "    </tr>\n",
       "    <tr>\n",
       "      <th>4722185</th>\n",
       "      <td>22v-222@627-wg4-t5f</td>\n",
       "      <td>2018-12-31 00:00:00-05:00</td>\n",
       "      <td>360050001001</td>\n",
       "      <td>4</td>\n",
       "      <td>264.0</td>\n",
       "      <td>0.25</td>\n",
       "      <td>0.25</td>\n",
       "    </tr>\n",
       "  </tbody>\n",
       "</table>\n",
       "</div>"
      ],
      "text/plain": [
       "                    placekey          date_range_start      home_cbg  \\\n",
       "4722183  236-222@627-s7z-b6k 2018-12-31 00:00:00-05:00  360050001001   \n",
       "4722184  223-222@627-wg7-7h5 2018-12-31 00:00:00-05:00  360050001001   \n",
       "4722185  22v-222@627-wg4-t5f 2018-12-31 00:00:00-05:00  360050001001   \n",
       "\n",
       "         visitor_count  estimated_visitor_count  pct_visitor_count  \\\n",
       "4722183              4                    264.0               0.25   \n",
       "4722184              4                    264.0               0.25   \n",
       "4722185              4                    264.0               0.25   \n",
       "\n",
       "         pct_estimated_visitor_count  \n",
       "4722183                         0.25  \n",
       "4722184                         0.25  \n",
       "4722185                         0.25  "
      ]
     },
     "metadata": {},
     "output_type": "display_data"
    },
    {
     "name": "stdout",
     "output_type": "stream",
     "text": [
      "27738422\n"
     ]
    }
   ],
   "source": [
    "peek(pct_df)"
   ]
  },
  {
   "cell_type": "code",
   "execution_count": 28,
   "id": "assigned-subdivision",
   "metadata": {},
   "outputs": [],
   "source": [
    "cd_df = pct_df.merge(poi_df, how='inner', on=['placekey', 'date_range_start'])"
   ]
  },
  {
   "cell_type": "code",
   "execution_count": 29,
   "id": "careful-keyboard",
   "metadata": {},
   "outputs": [
    {
     "data": {
      "text/html": [
       "<div>\n",
       "<style scoped>\n",
       "    .dataframe tbody tr th:only-of-type {\n",
       "        vertical-align: middle;\n",
       "    }\n",
       "\n",
       "    .dataframe tbody tr th {\n",
       "        vertical-align: top;\n",
       "    }\n",
       "\n",
       "    .dataframe thead th {\n",
       "        text-align: right;\n",
       "    }\n",
       "</style>\n",
       "<table border=\"1\" class=\"dataframe\">\n",
       "  <thead>\n",
       "    <tr style=\"text-align: right;\">\n",
       "      <th></th>\n",
       "      <th>placekey</th>\n",
       "      <th>date_range_start</th>\n",
       "      <th>home_cbg</th>\n",
       "      <th>visitor_count</th>\n",
       "      <th>estimated_visitor_count</th>\n",
       "      <th>pct_visitor_count</th>\n",
       "      <th>pct_estimated_visitor_count</th>\n",
       "      <th>poi_cbg</th>\n",
       "      <th>contact_density</th>\n",
       "    </tr>\n",
       "  </thead>\n",
       "  <tbody>\n",
       "    <tr>\n",
       "      <th>0</th>\n",
       "      <td>236-222@627-s7z-b6k</td>\n",
       "      <td>2018-12-31 00:00:00-05:00</td>\n",
       "      <td>360050001001</td>\n",
       "      <td>4</td>\n",
       "      <td>264.000000</td>\n",
       "      <td>0.250000</td>\n",
       "      <td>0.250000</td>\n",
       "      <td>360471194001</td>\n",
       "      <td>0.076046</td>\n",
       "    </tr>\n",
       "    <tr>\n",
       "      <th>1</th>\n",
       "      <td>236-222@627-s7z-b6k</td>\n",
       "      <td>2018-12-31 00:00:00-05:00</td>\n",
       "      <td>360050210021</td>\n",
       "      <td>4</td>\n",
       "      <td>6.697436</td>\n",
       "      <td>0.013158</td>\n",
       "      <td>0.013158</td>\n",
       "      <td>360471194001</td>\n",
       "      <td>0.076046</td>\n",
       "    </tr>\n",
       "    <tr>\n",
       "      <th>2</th>\n",
       "      <td>236-222@627-s7z-b6k</td>\n",
       "      <td>2018-12-31 00:00:00-05:00</td>\n",
       "      <td>360470285021</td>\n",
       "      <td>4</td>\n",
       "      <td>7.414691</td>\n",
       "      <td>0.007273</td>\n",
       "      <td>0.007273</td>\n",
       "      <td>360471194001</td>\n",
       "      <td>0.076046</td>\n",
       "    </tr>\n",
       "  </tbody>\n",
       "</table>\n",
       "</div>"
      ],
      "text/plain": [
       "              placekey          date_range_start      home_cbg  visitor_count  \\\n",
       "0  236-222@627-s7z-b6k 2018-12-31 00:00:00-05:00  360050001001              4   \n",
       "1  236-222@627-s7z-b6k 2018-12-31 00:00:00-05:00  360050210021              4   \n",
       "2  236-222@627-s7z-b6k 2018-12-31 00:00:00-05:00  360470285021              4   \n",
       "\n",
       "   estimated_visitor_count  pct_visitor_count  pct_estimated_visitor_count  \\\n",
       "0               264.000000           0.250000                     0.250000   \n",
       "1                 6.697436           0.013158                     0.013158   \n",
       "2                 7.414691           0.007273                     0.007273   \n",
       "\n",
       "        poi_cbg  contact_density  \n",
       "0  360471194001         0.076046  \n",
       "1  360471194001         0.076046  \n",
       "2  360471194001         0.076046  "
      ]
     },
     "metadata": {},
     "output_type": "display_data"
    },
    {
     "name": "stdout",
     "output_type": "stream",
     "text": [
      "27738422\n"
     ]
    }
   ],
   "source": [
    "cd_df = cd_df.fillna(0)\n",
    "peek(cd_df)"
   ]
  },
  {
   "cell_type": "code",
   "execution_count": 30,
   "id": "private-month",
   "metadata": {},
   "outputs": [
    {
     "data": {
      "text/html": [
       "<div>\n",
       "<style scoped>\n",
       "    .dataframe tbody tr th:only-of-type {\n",
       "        vertical-align: middle;\n",
       "    }\n",
       "\n",
       "    .dataframe tbody tr th {\n",
       "        vertical-align: top;\n",
       "    }\n",
       "\n",
       "    .dataframe thead th {\n",
       "        text-align: right;\n",
       "    }\n",
       "</style>\n",
       "<table border=\"1\" class=\"dataframe\">\n",
       "  <thead>\n",
       "    <tr style=\"text-align: right;\">\n",
       "      <th></th>\n",
       "      <th>placekey</th>\n",
       "      <th>date_range_start</th>\n",
       "      <th>home_cbg</th>\n",
       "      <th>visitor_count</th>\n",
       "      <th>estimated_visitor_count</th>\n",
       "      <th>pct_visitor_count</th>\n",
       "      <th>pct_estimated_visitor_count</th>\n",
       "      <th>cdi</th>\n",
       "    </tr>\n",
       "  </thead>\n",
       "  <tbody>\n",
       "    <tr>\n",
       "      <th>0</th>\n",
       "      <td>236-222@627-s7z-b6k</td>\n",
       "      <td>2018-12-31 00:00:00-05:00</td>\n",
       "      <td>360050001001</td>\n",
       "      <td>4</td>\n",
       "      <td>264.000000</td>\n",
       "      <td>0.250000</td>\n",
       "      <td>0.250000</td>\n",
       "      <td>20.076046</td>\n",
       "    </tr>\n",
       "    <tr>\n",
       "      <th>1</th>\n",
       "      <td>236-222@627-s7z-b6k</td>\n",
       "      <td>2018-12-31 00:00:00-05:00</td>\n",
       "      <td>360050210021</td>\n",
       "      <td>4</td>\n",
       "      <td>6.697436</td>\n",
       "      <td>0.013158</td>\n",
       "      <td>0.013158</td>\n",
       "      <td>0.509311</td>\n",
       "    </tr>\n",
       "    <tr>\n",
       "      <th>2</th>\n",
       "      <td>236-222@627-s7z-b6k</td>\n",
       "      <td>2018-12-31 00:00:00-05:00</td>\n",
       "      <td>360470285021</td>\n",
       "      <td>4</td>\n",
       "      <td>7.414691</td>\n",
       "      <td>0.007273</td>\n",
       "      <td>0.007273</td>\n",
       "      <td>0.563855</td>\n",
       "    </tr>\n",
       "  </tbody>\n",
       "</table>\n",
       "</div>"
      ],
      "text/plain": [
       "              placekey          date_range_start      home_cbg  visitor_count  \\\n",
       "0  236-222@627-s7z-b6k 2018-12-31 00:00:00-05:00  360050001001              4   \n",
       "1  236-222@627-s7z-b6k 2018-12-31 00:00:00-05:00  360050210021              4   \n",
       "2  236-222@627-s7z-b6k 2018-12-31 00:00:00-05:00  360470285021              4   \n",
       "\n",
       "   estimated_visitor_count  pct_visitor_count  pct_estimated_visitor_count  \\\n",
       "0               264.000000           0.250000                     0.250000   \n",
       "1                 6.697436           0.013158                     0.013158   \n",
       "2                 7.414691           0.007273                     0.007273   \n",
       "\n",
       "         cdi  \n",
       "0  20.076046  \n",
       "1   0.509311  \n",
       "2   0.563855  "
      ]
     },
     "metadata": {},
     "output_type": "display_data"
    },
    {
     "name": "stdout",
     "output_type": "stream",
     "text": [
      "27738422\n"
     ]
    }
   ],
   "source": [
    "cd_df['cdi'] = cd_df['contact_density'] * cd_df['estimated_visitor_count']\n",
    "cd_df = cd_df.drop(columns=['poi_cbg', 'contact_density'])\n",
    "peek(cd_df)"
   ]
  },
  {
   "cell_type": "code",
   "execution_count": 31,
   "id": "driving-platinum",
   "metadata": {},
   "outputs": [],
   "source": [
    "cd_df.to_csv(f'./exports/home_weekly.csv', index=False)"
   ]
  }
 ],
 "metadata": {
  "kernelspec": {
   "display_name": "Python 3",
   "language": "python",
   "name": "python3"
  },
  "language_info": {
   "codemirror_mode": {
    "name": "ipython",
    "version": 3
   },
   "file_extension": ".py",
   "mimetype": "text/x-python",
   "name": "python",
   "nbconvert_exporter": "python",
   "pygments_lexer": "ipython3",
   "version": "3.7.6"
  }
 },
 "nbformat": 4,
 "nbformat_minor": 5
}
